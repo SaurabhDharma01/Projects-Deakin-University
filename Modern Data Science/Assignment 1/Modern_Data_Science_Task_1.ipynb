{
 "cells": [
  {
   "cell_type": "markdown",
   "metadata": {
    "id": "BVkj8aUQq_dz"
   },
   "source": [
    "**Question 1.1**\n",
    "\n",
    "ages = [5,31,43,48,50,41,7,11,15,39,80,82,32,2,8,6,25,36,27,61,31] and the length of the list is 21  \n",
    "• find the average value of age (don’t use numpy and do not import other module or library, do not directly use math,statistics module functions except the function sum);  \n",
    "• find the standard deviation from the age list (don’t use numpy and do not import other module orlibrary, do not directly use math, statistics module functions except the function sum)  \n",
    "Hints: You could firstly create a function for calculating the mean, then create the second function for calculate the sum of square deviations of sequence data, then create the thrid one for standard deviation.  \n",
    "Check for the steps on how to calculate the standard deviation from\n",
    "https://www.mathsisfun.com/data/standard-deviation-formulas.html  \n",
    "Run your defined function(s) to calculate the average value of age and standard deviation of the age from given list\n"
   ]
  },
  {
   "cell_type": "code",
   "execution_count": 1,
   "metadata": {
    "id": "XU2ZLBAJvJtI"
   },
   "outputs": [],
   "source": [
    "ages = [5,31,43,48,50,41,7,11,15,39,80,82,32,2,8,6,25,36,27,61,31]"
   ]
  },
  {
   "cell_type": "code",
   "execution_count": 2,
   "metadata": {
    "colab": {
     "base_uri": "https://localhost:8080/"
    },
    "id": "iYBjk000uH9S",
    "outputId": "baf89837-266a-4efb-e152-9552e4310124"
   },
   "outputs": [
    {
     "data": {
      "text/plain": [
       "21"
      ]
     },
     "execution_count": 2,
     "metadata": {},
     "output_type": "execute_result"
    }
   ],
   "source": [
    "len(ages)"
   ]
  },
  {
   "cell_type": "code",
   "execution_count": 3,
   "metadata": {
    "colab": {
     "base_uri": "https://localhost:8080/"
    },
    "id": "-0W3VprN19Ve",
    "outputId": "c3c882ff-991d-4384-e428-204c437bcad1"
   },
   "outputs": [
    {
     "data": {
      "text/plain": [
       "680"
      ]
     },
     "execution_count": 3,
     "metadata": {},
     "output_type": "execute_result"
    }
   ],
   "source": [
    "sum(ages)"
   ]
  },
  {
   "cell_type": "code",
   "execution_count": 4,
   "metadata": {
    "colab": {
     "base_uri": "https://localhost:8080/"
    },
    "id": "orU_pnMZ2ED8",
    "outputId": "16ad6b62-428e-45e8-ff35-0f101e7e6221"
   },
   "outputs": [
    {
     "data": {
      "text/plain": [
       "32.38095238095238"
      ]
     },
     "execution_count": 4,
     "metadata": {},
     "output_type": "execute_result"
    }
   ],
   "source": [
    "680/21"
   ]
  },
  {
   "cell_type": "code",
   "execution_count": 5,
   "metadata": {
    "id": "9DlKCtB7r2Q2"
   },
   "outputs": [],
   "source": [
    "def cal_mean (data):\n",
    "  total = sum(data)\n",
    "  return total/len(data)"
   ]
  },
  {
   "cell_type": "code",
   "execution_count": 6,
   "metadata": {
    "id": "JHK7ADV0r50m"
   },
   "outputs": [],
   "source": [
    "def sq_dev (data, mean):\n",
    "  sq_total = [(x-mean)**2 for x in data]\n",
    "  sum_sq_dev = sum(sq_total)\n",
    "  return sum_sq_dev"
   ]
  },
  {
   "cell_type": "code",
   "execution_count": 7,
   "metadata": {
    "id": "eYL1psrTwH4Z"
   },
   "outputs": [],
   "source": [
    "def cal_std_dev (data,sum_sq_dev):\n",
    "  std_dev = (sum_sq_dev/(len(data)-1))**0.5\n",
    "  return std_dev"
   ]
  },
  {
   "cell_type": "code",
   "execution_count": 8,
   "metadata": {
    "colab": {
     "base_uri": "https://localhost:8080/"
    },
    "id": "sCZw1WMWz3U3",
    "outputId": "279dc7cb-716b-4b17-e82a-5bb9d85ea901"
   },
   "outputs": [
    {
     "data": {
      "text/plain": [
       "32.38095238095238"
      ]
     },
     "execution_count": 8,
     "metadata": {},
     "output_type": "execute_result"
    }
   ],
   "source": [
    "mean_ages = cal_mean(ages)\n",
    "mean_ages"
   ]
  },
  {
   "cell_type": "code",
   "execution_count": 9,
   "metadata": {
    "colab": {
     "base_uri": "https://localhost:8080/"
    },
    "id": "Mod916Tk0AmK",
    "outputId": "484ee8eb-c340-42bc-bd5b-f44ba62a9afe"
   },
   "outputs": [
    {
     "data": {
      "text/plain": [
       "10800.952380952378"
      ]
     },
     "execution_count": 9,
     "metadata": {},
     "output_type": "execute_result"
    }
   ],
   "source": [
    "sq_dev_ages = sq_dev(ages, mean_ages)\n",
    "sq_dev_ages"
   ]
  },
  {
   "cell_type": "code",
   "execution_count": 10,
   "metadata": {
    "colab": {
     "base_uri": "https://localhost:8080/"
    },
    "id": "__9AZZW70Fgx",
    "outputId": "d9aa3534-4908-443c-c431-fd04aea7c129"
   },
   "outputs": [
    {
     "data": {
      "text/plain": [
       "23.238924653426174"
      ]
     },
     "execution_count": 10,
     "metadata": {},
     "output_type": "execute_result"
    }
   ],
   "source": [
    "std_dev_ages = cal_std_dev(ages,sq_dev_ages)\n",
    "std_dev_ages"
   ]
  },
  {
   "cell_type": "markdown",
   "metadata": {
    "id": "-X32x60civCg"
   },
   "source": [
    "**Question 1.2**  \n",
    "\n",
    "Writing the code or function to achieve below requirements:  \n",
    "• You are given the heads of two sorted linked lists list1 = [1,2,4] and list2 = [1,3,4]. Merge the two lists in a one sorted list which is [1,1,2,3,4,4]. (don’t use numpy or import other module / library);  \n",
    "• You are given the heads of two sorted linked lists list1 = [1,2,4] and list2 = [1,3,4]. Merge the two lists in a one sorted list without duplicated elements which is [1,2,3,4]. (don’t use numpy or import other module / library)"
   ]
  },
  {
   "cell_type": "code",
   "execution_count": 11,
   "metadata": {
    "id": "jtUH7zRl0rYJ"
   },
   "outputs": [],
   "source": [
    "list1 = [1,2,4]"
   ]
  },
  {
   "cell_type": "code",
   "execution_count": 12,
   "metadata": {
    "id": "I-bBZbjJjVNa"
   },
   "outputs": [],
   "source": [
    "list2 = [1,3,4]"
   ]
  },
  {
   "cell_type": "code",
   "execution_count": 13,
   "metadata": {
    "colab": {
     "base_uri": "https://localhost:8080/"
    },
    "id": "eRwKWw_pj2Vj",
    "outputId": "3f3bd993-8581-4865-cdcf-83c122d4f3bc"
   },
   "outputs": [
    {
     "name": "stdout",
     "output_type": "stream",
     "text": [
      "[1, 1, 2, 3, 4, 4]\n"
     ]
    }
   ],
   "source": [
    "# Append the values of list2 to list1\n",
    "list1.extend(list2)\n",
    "\n",
    "# Sort the merged list to maintain the sorted order\n",
    "list1.sort()\n",
    "\n",
    "# Print the merged list\n",
    "print(list1)"
   ]
  },
  {
   "cell_type": "code",
   "execution_count": null,
   "metadata": {
    "id": "8z4C6pIon-oq"
   },
   "outputs": [],
   "source": []
  },
  {
   "cell_type": "code",
   "execution_count": 14,
   "metadata": {
    "id": "mN504z69nPs7"
   },
   "outputs": [],
   "source": [
    "merged_list = list1 + list2\n",
    "merged_list = list(set(merged_list))\n",
    "merged_list.sort()"
   ]
  },
  {
   "cell_type": "code",
   "execution_count": 15,
   "metadata": {
    "colab": {
     "base_uri": "https://localhost:8080/"
    },
    "id": "eYsz-3jBnqPx",
    "outputId": "8cfe4cea-1016-4e60-84ef-482efccf6499"
   },
   "outputs": [
    {
     "data": {
      "text/plain": [
       "[1, 2, 3, 4]"
      ]
     },
     "execution_count": 15,
     "metadata": {},
     "output_type": "execute_result"
    }
   ],
   "source": [
    "merged_list"
   ]
  },
  {
   "cell_type": "code",
   "execution_count": null,
   "metadata": {
    "id": "2IezfoNXn8dm"
   },
   "outputs": [],
   "source": []
  },
  {
   "cell_type": "markdown",
   "metadata": {
    "id": "35Sp-SzpoEsp"
   },
   "source": [
    "**Question 1.3**  \n",
    "You are required to design the code (by writing code or function) could achieve the mobile number searching mechanism which could allow you to:  \n",
    "• for Four mobile numbers in a list [’10009091003’,’10008293312’ ’10007838282’, ‘130001002’]  \n",
    "• print “Yes” when last digit in mobile number is not 3  \n",
    "• print “No” when last digit in mobile number is 3  \n",
    "• print “Not Valid” when length of the mobile number is small than 11 digits  \n",
    "(Optional: You could import re to use the regex function)"
   ]
  },
  {
   "cell_type": "code",
   "execution_count": 16,
   "metadata": {
    "colab": {
     "base_uri": "https://localhost:8080/"
    },
    "id": "SH7vkYCdoTTq",
    "outputId": "7ae458e7-9bec-466b-e828-002b6e776df9"
   },
   "outputs": [
    {
     "name": "stdout",
     "output_type": "stream",
     "text": [
      "No\n",
      "Yes\n",
      "Yes\n",
      "Not Valid\n"
     ]
    }
   ],
   "source": [
    "# List of mobile numbers\n",
    "mobile_numbers = ['10009091003', '10008293312', '10007838282', '130001002']\n",
    "\n",
    "# Iterate through the list of mobile numbers\n",
    "for number in mobile_numbers:\n",
    "    # Check if the length is less than 11 digits\n",
    "    if len(number) < 11:\n",
    "        print(\"Not Valid\")\n",
    "    # Check if the last digit is not 3\n",
    "    elif number[-1] != '3':\n",
    "        print(\"Yes\")\n",
    "    # If neither condition is met, it means the last digit is 3\n",
    "    else:\n",
    "        print(\"No\")"
   ]
  },
  {
   "cell_type": "code",
   "execution_count": null,
   "metadata": {
    "id": "5C5_OCdXo_wZ"
   },
   "outputs": [],
   "source": []
  },
  {
   "cell_type": "code",
   "execution_count": null,
   "metadata": {
    "id": "zNWt-48OoxCT"
   },
   "outputs": [],
   "source": []
  },
  {
   "cell_type": "markdown",
   "metadata": {
    "id": "lkP6ro7dhdjR"
   },
   "source": [
    "**Question 1.4**  \n",
    "You are required to use For statement to print out below * mark in 5 lines (must use control flow such as For statement).  \n",
    "\"*\"  \n",
    "**  \n",
    "\"***\"  \n",
    "\"****\"  \n",
    "\"*****\"  \n",
    "Example only (you could use others like While)  \n",
    "For i in range ( 5 ) :  \n",
    ":#continue to write your code in below#  \n",
    "Please do not directly print it out, you must finish the question with control flow syntax."
   ]
  },
  {
   "cell_type": "code",
   "execution_count": 17,
   "metadata": {
    "colab": {
     "base_uri": "https://localhost:8080/"
    },
    "id": "TaH98nGhpRBx",
    "outputId": "92a418c1-5947-4c02-c600-e578e3ca9f39"
   },
   "outputs": [
    {
     "name": "stdout",
     "output_type": "stream",
     "text": [
      "*\n",
      "**\n",
      "***\n",
      "****\n",
      "*****\n"
     ]
    }
   ],
   "source": [
    "for i in range(5):\n",
    "    for j in range(i + 1):\n",
    "        print('*', end='')\n",
    "    print()"
   ]
  },
  {
   "cell_type": "markdown",
   "metadata": {
    "id": "Tesy0XzdiNEN"
   },
   "source": [
    "**Question 1.5**  \n",
    "Given list A = [1,2,3,[4,5,[’x1’,6,[1,2,3,’sig742’]]]],  \n",
    "writing a function to print 1,2,3,4,5,x1,6,1,2,3,sig742  \n",
    "(must define a function to run, the input for function is list A, run the function and print the results line by line or in one line)"
   ]
  },
  {
   "cell_type": "code",
   "execution_count": 18,
   "metadata": {
    "colab": {
     "base_uri": "https://localhost:8080/"
    },
    "id": "Pz--q9RGh_ik",
    "outputId": "6bcd4352-d329-498e-843c-d664103b454a"
   },
   "outputs": [
    {
     "name": "stdout",
     "output_type": "stream",
     "text": [
      "1\n",
      "2\n",
      "3\n",
      "4\n",
      "5\n",
      "x1\n",
      "6\n",
      "1\n",
      "2\n",
      "3\n",
      "sig742\n"
     ]
    }
   ],
   "source": [
    "def flatten_and_print(input_list):\n",
    "    for item in input_list:\n",
    "        if isinstance(item, list):\n",
    "            flatten_and_print(item)\n",
    "        else:\n",
    "            print(item)\n",
    "\n",
    "# Given list A\n",
    "A = [1, 2, 3, [4, 5, ['x1', 6, [1, 2, 3, 'sig742']]]]\n",
    "\n",
    "# Call the function to flatten and print the elements\n",
    "flatten_and_print(A)"
   ]
  },
  {
   "cell_type": "code",
   "execution_count": null,
   "metadata": {
    "id": "EZ6hTjoMicgC"
   },
   "outputs": [],
   "source": []
  },
  {
   "cell_type": "markdown",
   "metadata": {
    "id": "NLl5mDQjjNL1"
   },
   "source": [
    "**Question 1.6**  \n",
    "Write the code or function to achieve:  \n",
    "Sort the dictionary list=[{′name′: a,′ age′: 55}, {′name′: b,′ age′: 30}, {′name′: c,′ age′: 50}]  \n",
    "with the value of age (from smallest to largest, you could use default sorted function)."
   ]
  },
  {
   "cell_type": "code",
   "execution_count": 19,
   "metadata": {
    "colab": {
     "base_uri": "https://localhost:8080/"
    },
    "id": "CJUOrclxjKUe",
    "outputId": "605f6027-922b-4496-deae-792f8a987b0c"
   },
   "outputs": [
    {
     "name": "stdout",
     "output_type": "stream",
     "text": [
      "[{'name': 'b', 'age': 30}, {'name': 'c', 'age': 50}, {'name': 'a', 'age': 55}]\n"
     ]
    }
   ],
   "source": [
    "# Define the list of dictionaries\n",
    "list_of_dicts = [{'name': 'a', 'age': 55}, {'name': 'b', 'age': 30}, {'name': 'c', 'age': 50}]\n",
    "\n",
    "# Sort the list by the 'age' key\n",
    "sorted_list = sorted(list_of_dicts, key=lambda x: x['age'])\n",
    "\n",
    "# Print the sorted list\n",
    "print(sorted_list)"
   ]
  },
  {
   "cell_type": "code",
   "execution_count": null,
   "metadata": {
    "id": "26MeALDkjZGf"
   },
   "outputs": [],
   "source": []
  },
  {
   "cell_type": "markdown",
   "metadata": {
    "id": "PBg-gyeHjd10"
   },
   "source": [
    "**Question 1.7**  \n",
    "Define two functions to sum your student ID (all numeric digits in the ID) and then find out if the result is an odd number or even number there are two functions for you to implement (you must create the below two functions):  \n",
    "• one is sum_digits,  \n",
    "• another one is check_studentid.  \n",
    "your code will have two functions as below:  \n",
    "def sum_digits ( studentid ):  \n",
    "#write your code here  \n",
    "return sum_digits_result  \n",
    "def check_studentid (sum_digits_result) :  \n",
    "#write your code here  \n",
    "Run your functions to find out the result and the result must illustrate whether the result from function check_studentid is odd or even number (this is critical to be used for Question 2)."
   ]
  },
  {
   "cell_type": "code",
   "execution_count": 20,
   "metadata": {
    "colab": {
     "base_uri": "https://localhost:8080/"
    },
    "id": "WWgfiXx0j0Ca",
    "outputId": "7f112a90-7350-4443-979a-ab767c4657cc"
   },
   "outputs": [
    {
     "name": "stdout",
     "output_type": "stream",
     "text": [
      "Sum of digits: 33\n",
      "Result is odd\n"
     ]
    }
   ],
   "source": [
    "# Define the sum_digits function\n",
    "def sum_digits(student_id):\n",
    "    # Convert the student ID to a string to iterate through its digits\n",
    "    student_id_str = str(student_id)\n",
    "\n",
    "    # Initialize a variable to store the sum of digits\n",
    "    sum_result = 0\n",
    "\n",
    "    # Iterate through each digit in the student ID and add it to the sum\n",
    "    for digit in student_id_str:\n",
    "        sum_result += int(digit)\n",
    "\n",
    "    return sum_result\n",
    "\n",
    "# Define the check_studentid function\n",
    "def check_studentid(sum_digits_result):\n",
    "    # Check if the sum of digits is even or odd\n",
    "    if sum_digits_result % 2 == 0:\n",
    "        return \"even\"\n",
    "    else:\n",
    "        return \"odd\"\n",
    "\n",
    "# Define your student ID\n",
    "student_id = 223624833\n",
    "\n",
    "# Calculate the sum of digits\n",
    "sum_digits_result = sum_digits(student_id)\n",
    "\n",
    "# Check if the sum is odd or even using check_studentid\n",
    "result = check_studentid(sum_digits_result)\n",
    "\n",
    "# Print the result and whether it's odd or even\n",
    "print(\"Sum of digits:\", sum_digits_result)\n",
    "print(\"Result is\", result)"
   ]
  },
  {
   "cell_type": "code",
   "execution_count": null,
   "metadata": {
    "id": "9zyURSgckvRi"
   },
   "outputs": [],
   "source": []
  },
  {
   "cell_type": "markdown",
   "metadata": {
    "id": "RWOfQVauk1PF"
   },
   "source": [
    "**Question 1.8**  \n",
    "Given an array of integers [1, 2, 6, 8], return indices of the two numbers such that they add up to 10.You may assume that each input would have exactly one solution.  \n",
    "Explanation  \n",
    "Given nums = [1, 2, 6, 8], target = 10,  \n",
    "Because nums[1] + nums[3] = 2 + 8 = 10,  \n",
    "return [1, 3].  \n",
    "Your code should have a defined function which could take the array nums= [1, 2, 6, 8] as input and run the function to return a list [1,3] (only [1,3])"
   ]
  },
  {
   "cell_type": "code",
   "execution_count": 21,
   "metadata": {
    "id": "gs4g1aHClA7A"
   },
   "outputs": [],
   "source": [
    "def two_sum(nums, target):\n",
    "    # Create a dictionary to store the seen numbers and their indices\n",
    "    num_dict = {}\n",
    "\n",
    "    for i, num in enumerate(nums):\n",
    "        # Calculate the complement needed to reach the target\n",
    "        complement = target - num\n",
    "\n",
    "        # Check if the complement is in the dictionary\n",
    "        if complement in num_dict:\n",
    "            # Return the indices of the two numbers\n",
    "            return [num_dict[complement], i]\n",
    "\n",
    "        # Add the current number and its index to the dictionary\n",
    "        num_dict[num] = i\n",
    "\n",
    "    # If no solution is found, return an empty list\n",
    "    return []\n",
    "\n"
   ]
  },
  {
   "cell_type": "code",
   "execution_count": 22,
   "metadata": {
    "colab": {
     "base_uri": "https://localhost:8080/"
    },
    "id": "QpyIvC4plT-W",
    "outputId": "3d34adba-afcf-4cda-9adb-34a06cb27df5"
   },
   "outputs": [
    {
     "name": "stdout",
     "output_type": "stream",
     "text": [
      "[1, 3]\n"
     ]
    }
   ],
   "source": [
    "# Given array\n",
    "nums = [1, 2, 6, 8]\n",
    "target = 10\n",
    "\n",
    "# Find the indices of the two numbers that add up to the target\n",
    "result = two_sum(nums, target)\n",
    "\n",
    "# Print the result\n",
    "print(result)"
   ]
  },
  {
   "cell_type": "code",
   "execution_count": null,
   "metadata": {
    "id": "2Soq0K0ElXsW"
   },
   "outputs": [],
   "source": []
  },
  {
   "cell_type": "markdown",
   "metadata": {
    "id": "yt9Fk40apXwc"
   },
   "source": [
    "**Question 2 - Version-I**  \n",
    "Question 2 Whether the three numbers could form a triangle?  \n",
    "Whether the three numbers could form the triangle? You need to write code (function) with 3 numeric inputs and then check whether the given three numbers could form the triangle.  \n",
    "**Question 2.1**  \n",
    "You are given three sets of list and each list contains three numbers, you will need to write a code with functionality of inputting the three numbers from each list and find out the answers for below (three) questions. list1 = [1, 3, 5], list2 = [12, 35, 37], list3 = [2, 2, 2.8]  \n",
    "• Define a function to check whether the given three numbers could form the a triangle?  \n",
    "• Define a function to check whether the given three numbers could form the right triangle?  \n",
    "• Write the code or function to check whether the given three numbers could form the isosceles triangle?  \n",
    "\n",
    "One possible solution you may try to first define a function to check whether the three input numbers could meet the triangle rule (The sum of the length of the two sides of a triangleis greater than the length of the third side). Then you need to check whether the length of the side could meet the condition of right triangle and isosceles triangle.  \n",
    "\n",
    "Run your code with each list by inputting the numbers and return the results to answer above three questions (you could run your code three times and save the results)."
   ]
  },
  {
   "cell_type": "code",
   "execution_count": 23,
   "metadata": {
    "id": "vZU6mFdMp7J3"
   },
   "outputs": [],
   "source": [
    "# Define a function to check if three numbers can form a triangle\n",
    "def is_triangle(a, b, c):\n",
    "    return a + b > c and a + c > b and b + c > a\n"
   ]
  },
  {
   "cell_type": "code",
   "execution_count": 24,
   "metadata": {
    "id": "bZhrL7MIqQ9U"
   },
   "outputs": [],
   "source": [
    "# Define a function to check if the triangle is a right triangle\n",
    "def is_right_triangle(a, b, c):\n",
    "    sides = [a, b, c]\n",
    "    sides.sort()\n",
    "    return sides[0] ** 2 + sides[1] ** 2 == sides[2] ** 2"
   ]
  },
  {
   "cell_type": "code",
   "execution_count": 25,
   "metadata": {
    "id": "ZZZrOwt1qTt4"
   },
   "outputs": [],
   "source": [
    "# Define a function to check if the triangle is isosceles\n",
    "def is_isosceles_triangle(a, b, c):\n",
    "    return a == b or a == c or b == c"
   ]
  },
  {
   "cell_type": "code",
   "execution_count": 26,
   "metadata": {
    "colab": {
     "base_uri": "https://localhost:8080/"
    },
    "id": "O3BQFLoCqXfQ",
    "outputId": "498eef06-f05b-49cb-89d3-2fe3de47b217"
   },
   "outputs": [
    {
     "name": "stdout",
     "output_type": "stream",
     "text": [
      "Triangle1:\n",
      "Can form a triangle: False\n",
      "Is a right triangle: False\n",
      "Is an isosceles triangle: False\n",
      "\n",
      "Triangle2:\n",
      "Can form a triangle: True\n",
      "Is a right triangle: True\n",
      "Is an isosceles triangle: False\n",
      "\n",
      "Triangle3:\n",
      "Can form a triangle: True\n",
      "Is a right triangle: False\n",
      "Is an isosceles triangle: True\n"
     ]
    }
   ],
   "source": [
    "# Given lists\n",
    "triangle1 = [1, 3, 5]\n",
    "triangle2 = [12, 35, 37]\n",
    "triangle3 = [2, 2, 2.8]\n",
    "\n",
    "# Check and print results for list1\n",
    "print(\"Triangle1:\")\n",
    "print(\"Can form a triangle:\", is_triangle(*triangle1))\n",
    "print(\"Is a right triangle:\", is_right_triangle(*triangle1))\n",
    "print(\"Is an isosceles triangle:\", is_isosceles_triangle(*triangle1))\n",
    "\n",
    "# Check and print results for list2\n",
    "print(\"\\nTriangle2:\")\n",
    "print(\"Can form a triangle:\", is_triangle(*triangle2))\n",
    "print(\"Is a right triangle:\", is_right_triangle(*triangle2))\n",
    "print(\"Is an isosceles triangle:\", is_isosceles_triangle(*triangle2))\n",
    "\n",
    "# Check and print results for list3\n",
    "print(\"\\nTriangle3:\")\n",
    "print(\"Can form a triangle:\", is_triangle(*triangle3))\n",
    "print(\"Is a right triangle:\", is_right_triangle(*triangle3))\n",
    "print(\"Is an isosceles triangle:\", is_isosceles_triangle(*triangle3))"
   ]
  },
  {
   "cell_type": "code",
   "execution_count": null,
   "metadata": {
    "id": "CXUvKGOOqbNl"
   },
   "outputs": [],
   "source": []
  },
  {
   "cell_type": "markdown",
   "metadata": {
    "id": "F7msUQJFq75c"
   },
   "source": [
    "**Question 2.2**  \n",
    "The problem for Question 2.2 is how to calculate the area of the\n",
    "triangle. When you find out the list(s) in Question 2.1 which could form the triangle, could you also please calculate their area (round to integer)? There is one method to calculate the area of given shape - Heron’s formula as below:  \n",
    "𝐴 = sqrt[𝑠(𝑠 − 𝑎)(𝑠 − 𝑏)(𝑠 − 𝑐) (1)]\n",
    "where 𝑠 =\n",
    "(𝑎+𝑏+𝑐)/\n",
    "2\n",
    "\n",
    "You are required to define the function find_area(a,b,c) for this problem, and you will need to run the find_area() and print the results for the list(s) in Question 2.1 which could form the triangle."
   ]
  },
  {
   "cell_type": "code",
   "execution_count": 27,
   "metadata": {
    "id": "2qsfrIGxrNOh"
   },
   "outputs": [],
   "source": [
    "import math"
   ]
  },
  {
   "cell_type": "code",
   "execution_count": 30,
   "metadata": {
    "id": "9CEkL4glrz85"
   },
   "outputs": [],
   "source": [
    "\n",
    "# Define a function to calculate the area of a triangle using Heron's formula\n",
    "def find_area(a, b, c):\n",
    "    # Calculate the semi-perimeter (s)\n",
    "    s = (a + b + c) / 2\n",
    "\n",
    "    # Calculate the area using Heron's formula\n",
    "    area = math.sqrt(s * (s - a) * (s - b) * (s - c))\n",
    "\n",
    "    return (area)  # Round the area to an integer"
   ]
  },
  {
   "cell_type": "code",
   "execution_count": 31,
   "metadata": {
    "colab": {
     "base_uri": "https://localhost:8080/"
    },
    "id": "s59iIwArr8_4",
    "outputId": "0e251509-8b6d-4411-e0d3-cbf74f59543d"
   },
   "outputs": [
    {
     "name": "stdout",
     "output_type": "stream",
     "text": [
      "Triangle 1 cannot form a triangle\n",
      "Area of Triangle 2 triangle: 210.0\n",
      "Area of Triangle 3 triangle: 1.9995999599919982\n"
     ]
    }
   ],
   "source": [
    "# Check if each list can form a triangle and calculate its area if possible\n",
    "if is_triangle(*triangle1):\n",
    "    area = find_area(*triangle1)\n",
    "    print(\"Area of Triangle 1 triangle:\", area)\n",
    "else:\n",
    "    print(\"Triangle 1 cannot form a triangle\")\n",
    "\n",
    "if is_triangle(*triangle2):\n",
    "    area = find_area(*triangle2)\n",
    "    print(\"Area of Triangle 2 triangle:\", area)\n",
    "else:\n",
    "    print(\"Triangle 2 cannot form a triangle\")\n",
    "\n",
    "if is_triangle(*triangle3):\n",
    "    area = find_area(*triangle3)\n",
    "    print(\"Area of Triangle 3 triangle:\", area)\n",
    "else:\n",
    "    print(\"Triangle 3 cannot form a triangle\")"
   ]
  },
  {
   "cell_type": "markdown",
   "metadata": {
    "id": "vdDr7JsPsco0"
   },
   "source": [
    "# Bibliography  \n",
    "GeeksforGeeks. (2023, May 4). \"Python Functions.\" GeeksforGeeks. https://www.geeksforgeeks.org/python-functions/\n",
    "\n",
    "BYJU's. (2021, September). \"Heron's Formula.\" BYJU's. https://byjus.com/maths/heron-formula/\n",
    "\n",
    "GeeksforGeeks. (2022, June 7). \"Calculating Areas of Different Shapes Using Python.\" GeeksforGeeks. https://www.geeksforgeeks.org/calculating-areas-of-different-shapes-using-python/"
   ]
  },
  {
   "cell_type": "code",
   "execution_count": null,
   "metadata": {},
   "outputs": [],
   "source": []
  }
 ],
 "metadata": {
  "colab": {
   "provenance": [],
   "toc_visible": true
  },
  "kernelspec": {
   "display_name": "Python 3 (ipykernel)",
   "language": "python",
   "name": "python3"
  },
  "language_info": {
   "codemirror_mode": {
    "name": "ipython",
    "version": 3
   },
   "file_extension": ".py",
   "mimetype": "text/x-python",
   "name": "python",
   "nbconvert_exporter": "python",
   "pygments_lexer": "ipython3",
   "version": "3.9.7"
  }
 },
 "nbformat": 4,
 "nbformat_minor": 1
}
