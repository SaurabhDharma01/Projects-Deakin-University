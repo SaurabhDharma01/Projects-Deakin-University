{
  "nbformat": 4,
  "nbformat_minor": 0,
  "metadata": {
    "colab": {
      "provenance": []
    },
    "kernelspec": {
      "name": "python3",
      "display_name": "Python 3"
    },
    "language_info": {
      "name": "python"
    }
  },
  "cells": [
    {
      "cell_type": "markdown",
      "source": [
        "# Task 2P- SIG731- Data Wrangling\n",
        "\n",
        "**Name**: Vamsi Krishna Chinthalapalli\n",
        "\n",
        "---\n",
        "\n",
        "\n",
        "**Student ID**: S223634451\n",
        "\n",
        "---\n",
        "\n",
        "\n",
        "**Email**: Vamsi.krishna.c@outlook.com"
      ],
      "metadata": {
        "id": "kRjtsjlWazS7"
      }
    },
    {
      "cell_type": "markdown",
      "source": [
        "**Bitcoint -USD data Analysis**\n",
        "\n",
        "**Introduction**\n",
        "\n",
        "* This analysis focuses on the Bitcoin (BTC) to USD exchange rates, specifically examining the data for the third quarter of 2023 (Q3 2023).\n",
        "* The provided Python code utilizes NumPy and Matplotlib to perform various statistical calculations, generate visualizations, and extract insights from the cryptocurrency price data."
      ],
      "metadata": {
        "id": "VV7vyZttqIws"
      }
    },
    {
      "cell_type": "markdown",
      "source": [
        "**Libraries**\n",
        "\n",
        "* We import necessary libraries such as Numpay and matplotlib,pyplot"
      ],
      "metadata": {
        "id": "oxX1GbbeqZOR"
      }
    },
    {
      "cell_type": "code",
      "source": [
        "import numpy as np\n",
        "import matplotlib.pyplot as plt"
      ],
      "metadata": {
        "id": "-EbUkCxiqYd7"
      },
      "execution_count": 4,
      "outputs": []
    },
    {
      "cell_type": "markdown",
      "source": [
        "**Data Loading and Selection**\n",
        "\n",
        "* The first step is to read the data from the CSV fiel and laod it into variable as an array\n",
        "\n",
        "* Then we print the array to check if data is loaded in the expected format\n",
        "\n",
        "* Post which we selct the data for the Quarter 3 based on instruction provided in the question which is the days raning from 181 to 273 inlcuded\n"
      ],
      "metadata": {
        "id": "FYPOkucpqsDS"
      }
    },
    {
      "cell_type": "code",
      "source": [
        "# Read data\n",
        "rates = np.genfromtxt('/content/BTC-USD-Data.csv')\n",
        "# print the data to check\n",
        "rates"
      ],
      "metadata": {
        "colab": {
          "base_uri": "https://localhost:8080/"
        },
        "id": "4WzM1-129cTh",
        "outputId": "2b1f3369-0c25-443b-e0a4-01d4b451266c"
      },
      "execution_count": 5,
      "outputs": [
        {
          "output_type": "execute_result",
          "data": {
            "text/plain": [
              "array([        nan, 16688.4707 , 16679.85742, 16863.23828, 16836.73633,\n",
              "       16951.96875, 16955.07813, 17091.14453, 17196.55469, 17446.29297,\n",
              "       17934.89648, 18869.58789, 19909.57422, 20976.29883, 20880.79883,\n",
              "       21169.63281, 21161.51953, 20688.78125, 21086.79297, 22676.55273,\n",
              "       22777.625  , 22720.41602, 22934.43164, 22636.46875, 23117.85938,\n",
              "       23032.77734, 23078.72852, 23031.08984, 23774.56641, 22840.13867,\n",
              "       23139.2832 , 23723.76953, 23471.87109, 23449.32227, 23331.84766,\n",
              "       22955.66602, 22760.10938, 23264.29102, 22939.39844, 21819.03906,\n",
              "       21651.18359, 21870.875  , 21788.20313, 21808.10156, 22220.80469,\n",
              "       24307.8418 , 23623.47461, 24565.60156, 24641.27734, 24327.64258,\n",
              "       24829.14844, 24436.35352, 24188.84375, 23947.49219, 23198.12695,\n",
              "       23175.375  , 23561.21289, 23522.87109, 23147.35352, 23646.55078,\n",
              "       23475.4668 , 22362.67969, 22353.34961, 22435.51367, 22429.75781,\n",
              "       22219.76953, 21718.08008, 20363.02148, 20187.24414, 20632.41016,\n",
              "       22163.94922, 24197.5332 , 24746.07422, 24375.96094, 25052.78906,\n",
              "       27423.92969, 26965.87891, 28038.67578, 27767.23633, 28175.81641,\n",
              "       27307.4375 , 28333.97266, 27493.28516, 27494.70703, 27994.33008,\n",
              "       27139.88867, 27268.13086, 28348.44141, 28033.5625 , 28478.48438,\n",
              "       28411.03516, 28199.30859, 27790.2207 , 28168.08984, 28177.98438,\n",
              "       28044.14063, 27925.85938, 27947.79492, 28333.05078, 29652.98047,\n",
              "       30235.05859, 30139.05273, 30399.06641, 30485.69922, 30318.49609,\n",
              "       30315.35547, 29445.04492, 30397.55273, 28822.67969, 28245.98828,\n",
              "       27276.91016, 27817.5    , 27591.38477, 27525.33984, 28307.59766,\n",
              "       28422.70117, 29473.78711, 29340.26172, 29248.48828, 29268.80664,\n",
              "       28091.56836, 28680.53711, 29006.30859, 28847.71094, 29534.38477,\n",
              "       28904.62305, 28454.97852, 27694.27344, 27658.77539, 27621.75586,\n",
              "       27000.78906, 26804.99023, 26784.07813, 26930.63867, 27192.69336,\n",
              "       27036.65039, 27398.80273, 26832.20898, 26890.12891, 27129.58594,\n",
              "       26753.82617, 26851.27734, 27225.72656, 26334.81836, 26476.20703,\n",
              "       26719.29102, 26868.35352, 28085.64648, 27745.88477, 27702.34961,\n",
              "       27219.6582 , 26819.97266, 27249.58984, 27075.12891, 27119.06641,\n",
              "       25760.09766, 27238.7832 , 26345.99805, 26508.2168 , 26480.375  ,\n",
              "       25851.24023, 25940.16797, 25902.5    , 25918.72852, 25124.67578,\n",
              "       25576.39453, 26327.46289, 26510.67578, 26336.21289, 26851.0293 ,\n",
              "       28327.48828, 30027.29688, 29912.28125, 30695.46875, 30548.69531,\n",
              "       30480.26172, 30271.13086, 30688.16406, 30086.24609, 30445.35156,\n",
              "       30477.25195, 30590.07813, 30620.76953, 31156.43945, 30777.58203,\n",
              "       30514.16602, 29909.33789, 30342.26563, 30292.54102, 30171.23438,\n",
              "       30414.4707 , 30620.95117, 30391.64648, 31476.04883, 30334.06836,\n",
              "       30295.80664, 30249.13281, 30145.88867, 29856.5625 , 29913.92383,\n",
              "       29792.01563, 29908.74414, 29771.80273, 30084.53906, 29176.91602,\n",
              "       29227.39063, 29354.97266, 29210.68945, 29319.24609, 29356.91797,\n",
              "       29275.30859, 29230.11133, 29675.73242, 29151.95898, 29178.67969,\n",
              "       29074.0918 , 29042.12695, 29041.85547, 29180.57813, 29765.49219,\n",
              "       29561.49414, 29429.5918 , 29397.71484, 29415.96484, 29282.91406,\n",
              "       29408.44336, 29170.34766, 28701.7793 , 26664.55078, 26049.55664,\n",
              "       26096.20508, 26189.58398, 26124.14063, 26031.65625, 26431.64063,\n",
              "       26162.37305, 26047.66797, 26008.46289, 26089.69336, 26106.15039,\n",
              "       27727.39258, 27297.26563, 25931.47266, 25800.72461, 25868.79883,\n",
              "       25969.56641, 25812.41602, 25779.98242, 25753.23633, 26240.19531,\n",
              "       25905.6543 , 25895.67773, 25832.22656, 25162.6543 , 25833.34375,\n",
              "       26228.32422, 26539.67383, 26608.69336, 26568.28125, 26534.1875 ,\n",
              "       26754.28125, 27211.11719, 27132.00781, 26567.63281, 26579.56836,\n",
              "       26579.39063, 26256.82617, 26298.48047, 26217.25   , 26352.7168 ,\n",
              "       27021.54688, 26911.7207 , 26967.91602, 27983.75   , 27530.78516,\n",
              "       27429.97852, 27799.39453, 27415.91211, 27946.59766, 27968.83984,\n",
              "       27935.08984, 27583.67773, 27391.01953, 26873.32031, 26756.79883,\n",
              "       26862.375  , 26861.70703, 27159.65234, 28519.4668 , 28415.74805,\n",
              "       28328.3418 , 28719.80664, 29682.94922, 29918.41211, 29993.89648,\n",
              "       33086.23438, 33901.52734, 34502.82031, 34156.64844, 33909.80078,\n",
              "       34089.57422, 34538.48047, 34502.36328, 34667.78125, 35437.25391,\n",
              "       34938.24219, 34732.32422, 35082.19531, 35049.35547, 35037.37109,\n",
              "       35443.5625 , 35655.27734, 36693.125  , 37313.96875, 37138.05078,\n",
              "       37054.51953, 36502.35547, 35537.64063, 37880.58203, 36154.76953,\n",
              "       36596.68359, 36585.70313, 37386.54688, 37476.95703, 35813.8125 ,\n",
              "       37432.33984, 37289.62109, 37720.28125, 37796.79297, 37479.12109,\n",
              "       37254.16797, 37831.08594, 37858.49219, 37712.74609, 38688.75   ,\n",
              "       39476.33203, 39978.39063, 41980.09766, 44080.64844, 43746.44531,\n",
              "       43292.66406, 44166.60156, 43725.98438, 43779.69922, 41243.83203,\n",
              "       41450.22266, 42890.74219, 43023.97266, 41929.75781, 42240.11719,\n",
              "       41364.66406, 42623.53906, 42270.52734, 43652.25   , 43869.15234,\n",
              "       43997.90234, 43739.54297, 43016.11719, 43613.14063, 42520.40234,\n",
              "       43442.85547, 42627.85547, 42099.40234, 42156.90234, 42265.1875 ,\n",
              "       44167.33203, 44957.96875, 42848.17578, 44179.92188, 44162.69141,\n",
              "       43989.19531, 43943.09766, 46970.50391, 46139.73047, 46627.77734,\n",
              "       46368.58594, 42853.16797, 42842.38281, 41796.26953, 42511.96875,\n",
              "       43154.94531, 42742.65234, 41262.05859, 41618.40625, 41607.69141])"
            ]
          },
          "metadata": {},
          "execution_count": 5
        }
      ]
    },
    {
      "cell_type": "code",
      "source": [
        "# Select data for Q3 2023 (Days 182-273 inclusive)\n",
        "q3_data = rates[181:273]\n",
        "\n",
        "q3_data"
      ],
      "metadata": {
        "colab": {
          "base_uri": "https://localhost:8080/"
        },
        "id": "0anoYOcq97Fn",
        "outputId": "0a1ec621-0c60-4f37-a216-8916995dcafa"
      },
      "execution_count": 6,
      "outputs": [
        {
          "output_type": "execute_result",
          "data": {
            "text/plain": [
              "array([30590.07813, 30620.76953, 31156.43945, 30777.58203, 30514.16602,\n",
              "       29909.33789, 30342.26563, 30292.54102, 30171.23438, 30414.4707 ,\n",
              "       30620.95117, 30391.64648, 31476.04883, 30334.06836, 30295.80664,\n",
              "       30249.13281, 30145.88867, 29856.5625 , 29913.92383, 29792.01563,\n",
              "       29908.74414, 29771.80273, 30084.53906, 29176.91602, 29227.39063,\n",
              "       29354.97266, 29210.68945, 29319.24609, 29356.91797, 29275.30859,\n",
              "       29230.11133, 29675.73242, 29151.95898, 29178.67969, 29074.0918 ,\n",
              "       29042.12695, 29041.85547, 29180.57813, 29765.49219, 29561.49414,\n",
              "       29429.5918 , 29397.71484, 29415.96484, 29282.91406, 29408.44336,\n",
              "       29170.34766, 28701.7793 , 26664.55078, 26049.55664, 26096.20508,\n",
              "       26189.58398, 26124.14063, 26031.65625, 26431.64063, 26162.37305,\n",
              "       26047.66797, 26008.46289, 26089.69336, 26106.15039, 27727.39258,\n",
              "       27297.26563, 25931.47266, 25800.72461, 25868.79883, 25969.56641,\n",
              "       25812.41602, 25779.98242, 25753.23633, 26240.19531, 25905.6543 ,\n",
              "       25895.67773, 25832.22656, 25162.6543 , 25833.34375, 26228.32422,\n",
              "       26539.67383, 26608.69336, 26568.28125, 26534.1875 , 26754.28125,\n",
              "       27211.11719, 27132.00781, 26567.63281, 26579.56836, 26579.39063,\n",
              "       26256.82617, 26298.48047, 26217.25   , 26352.7168 , 27021.54688,\n",
              "       26911.7207 , 26967.91602])"
            ]
          },
          "metadata": {},
          "execution_count": 6
        }
      ]
    },
    {
      "cell_type": "markdown",
      "source": [
        "**Descriptive Statistics**\n",
        "\n",
        "We now calculate various descriptive statistics are calculated, including the mean, minimum, first quartile, median, third quartile, maximum, standard deviation, and interquartile range for the Q3 2023 data."
      ],
      "metadata": {
        "id": "oGCY8uLTrvFE"
      }
    },
    {
      "cell_type": "code",
      "source": [
        "# Calculate aggregates\n",
        "mean = np.mean(q3_data)\n",
        "minimum = np.min(q3_data)\n",
        "first_quartile = np.percentile(q3_data, 25)\n",
        "median = np.median(q3_data)\n",
        "third_quartile = np.percentile(q3_data, 75)\n",
        "maximum = np.max(q3_data)\n",
        "std_dev = np.std(q3_data)\n",
        "iqr = third_quartile - first_quartile\n",
        "\n",
        "\n",
        "# Print the statistics\n",
        "print(f\"Arithmetic Mean: {mean:.2f}\")\n",
        "print(f\"Minimum: {minimum}\")\n",
        "print(f\"First Quartile: {first_quartile}\")\n",
        "print(f\"Median: {median}\")\n",
        "print(f\"Third Quartile: {third_quartile}\")\n",
        "print(f\"Maximum: {maximum}\")\n",
        "print(f\"Standard Deviation: {std_dev:.2f}\")\n",
        "print(f\"Interquartile Range: {iqr}\")\n",
        "\n"
      ],
      "metadata": {
        "colab": {
          "base_uri": "https://localhost:8080/"
        },
        "id": "gY-8NvD69-if",
        "outputId": "2c05813c-a090-4195-dea6-813187c47cb9"
      },
      "execution_count": 7,
      "outputs": [
        {
          "output_type": "stream",
          "name": "stdout",
          "text": [
            "Arithmetic Mean: 28091.33\n",
            "Minimum: 25162.6543\n",
            "First Quartile: 26225.555665\n",
            "Median: 28871.817385\n",
            "Third Quartile: 29767.069825\n",
            "Maximum: 31476.04883\n",
            "Standard Deviation: 1827.04\n",
            "Interquartile Range: 3541.514159999999\n"
          ]
        }
      ]
    },
    {
      "cell_type": "markdown",
      "source": [
        "**Visualizing Q3 2023 Data**\n",
        "\n",
        "* We use a line plot to visualize the BTC-USD exchange rates for each day in Q3 2023."
      ],
      "metadata": {
        "id": "TCtM2QfEsEPv"
      }
    },
    {
      "cell_type": "code",
      "source": [
        "# Plot Q3 2023 data\n",
        "days = np.arange(182, 274)\n",
        "plt.plot(days, q3_data, 'r-')\n",
        "plt.title('BTC-USD Data for Q3 2023')\n",
        "plt.xlabel('Day')\n",
        "plt.ylabel('Price')\n",
        "plt.show()"
      ],
      "metadata": {
        "colab": {
          "base_uri": "https://localhost:8080/",
          "height": 472
        },
        "id": "ZQi3vMja-l0p",
        "outputId": "2ff4b1c7-e9f2-4605-b48a-78345ffa297d"
      },
      "execution_count": 8,
      "outputs": [
        {
          "output_type": "display_data",
          "data": {
            "text/plain": [
              "<Figure size 640x480 with 1 Axes>"
            ],
            "image/png": "[encoded data removed]"
          },
          "metadata": {}
        }
      ]
    },
    {
      "cell_type": "markdown",
      "source": [
        "**Identifying Extremes**\n",
        "\n",
        "* We now determine the days with the lowest and highest observed prices during Q3 2023 and prints the results."
      ],
      "metadata": {
        "id": "EOVurfUAsPbA"
      }
    },
    {
      "cell_type": "code",
      "source": [
        "# Determine day numbers with lowest and highest observed prices\n",
        "lowest_day = np.argmin(q3_data) + 182\n",
        "highest_day = np.argmax(q3_data) + 182\n",
        "\n",
        "\n",
        "print(f\"## Lowest price was on day  : {lowest_day}\")\n",
        "print(f\"## Highest price was on day : {highest_day}\")"
      ],
      "metadata": {
        "colab": {
          "base_uri": "https://localhost:8080/"
        },
        "id": "UPgbl-S1-pyH",
        "outputId": "4c53e530-129f-4990-d2c8-1fe4657be5b1"
      },
      "execution_count": 10,
      "outputs": [
        {
          "output_type": "stream",
          "name": "stdout",
          "text": [
            "## Lowest price was on day  : 254\n",
            "## Highest price was on day : 194\n"
          ]
        }
      ]
    },
    {
      "cell_type": "markdown",
      "source": [
        "* Then we calculate the proce change for each day for the Q3 2023 using the diff fucntion and print the data to cehck"
      ],
      "metadata": {
        "id": "Zw6CJy8QtCWI"
      }
    },
    {
      "cell_type": "code",
      "source": [
        "# Calculate daily price increases/decreases\n",
        "price_diff = np.diff(q3_data)\n",
        "print(price_diff)"
      ],
      "metadata": {
        "colab": {
          "base_uri": "https://localhost:8080/"
        },
        "id": "Nc7KagjPADax",
        "outputId": "c7e417ba-4087-4ab5-be21-f7bbd6705645"
      },
      "execution_count": 11,
      "outputs": [
        {
          "output_type": "stream",
          "name": "stdout",
          "text": [
            "[ 3.06914000e+01  5.35669920e+02 -3.78857420e+02 -2.63416010e+02\n",
            " -6.04828130e+02  4.32927740e+02 -4.97246100e+01 -1.21306640e+02\n",
            "  2.43236320e+02  2.06480470e+02 -2.29304690e+02  1.08440235e+03\n",
            " -1.14198047e+03 -3.82617200e+01 -4.66738300e+01 -1.03244140e+02\n",
            " -2.89326170e+02  5.73613300e+01 -1.21908200e+02  1.16728510e+02\n",
            " -1.36941410e+02  3.12736330e+02 -9.07623040e+02  5.04746100e+01\n",
            "  1.27582030e+02 -1.44283210e+02  1.08556640e+02  3.76718800e+01\n",
            " -8.16093800e+01 -4.51972600e+01  4.45621090e+02 -5.23773440e+02\n",
            "  2.67207100e+01 -1.04587890e+02 -3.19648500e+01 -2.71480000e-01\n",
            "  1.38722660e+02  5.84914060e+02 -2.03998050e+02 -1.31902340e+02\n",
            " -3.18769600e+01  1.82500000e+01 -1.33050780e+02  1.25529300e+02\n",
            " -2.38095700e+02 -4.68568360e+02 -2.03722852e+03 -6.14994140e+02\n",
            "  4.66484400e+01  9.33789000e+01 -6.54433500e+01 -9.24843800e+01\n",
            "  3.99984380e+02 -2.69267580e+02 -1.14705080e+02 -3.92050800e+01\n",
            "  8.12304700e+01  1.64570300e+01  1.62124219e+03 -4.30126950e+02\n",
            " -1.36579297e+03 -1.30748050e+02  6.80742200e+01  1.00767580e+02\n",
            " -1.57150390e+02 -3.24336000e+01 -2.67460900e+01  4.86958980e+02\n",
            " -3.34541010e+02 -9.97657000e+00 -6.34511700e+01 -6.69572260e+02\n",
            "  6.70689450e+02  3.94980470e+02  3.11349610e+02  6.90195300e+01\n",
            " -4.04121100e+01 -3.40937500e+01  2.20093750e+02  4.56835940e+02\n",
            " -7.91093800e+01 -5.64375000e+02  1.19355500e+01 -1.77730000e-01\n",
            " -3.22564460e+02  4.16543000e+01 -8.12304700e+01  1.35466800e+02\n",
            "  6.68830080e+02 -1.09826180e+02  5.61953200e+01]\n"
          ]
        }
      ]
    },
    {
      "cell_type": "markdown",
      "source": [
        "**Analyzing Daily Price Changes**\n",
        "\n",
        "*  We now plot the price diffeence over a box plot and mark the mean value as well on the box plot to obsever the price changes\n",
        "\n",
        "* The box and whisker plot shows the quarterly change in the price of Bitcoin in USD for Q3 of 2023.\n",
        "\n",
        "* The median price change was 1000 USD, and theinterquartile range was 1500 USD.\n",
        "* This indicates that the price of Bitcoin increased by between 500 USD and 2500 USD during Q3 of 2023.\n",
        "* The minimum price change was -2000 USD, and the maximum price change was 3000 USD.\n",
        "* This suggests that the price of Bitcoin fluctuated significantly during this quarter."
      ],
      "metadata": {
        "id": "S01P4xLGtEJa"
      }
    },
    {
      "cell_type": "code",
      "source": [
        "# Calculate mean\n",
        "mean_value = sum(price_diff) / len(price_diff)\n",
        "\n",
        "# Create a horizontal box-and-whisker plot\n",
        "plt.boxplot(price_diff, vert=False)\n",
        "\n",
        "# Mark the arithmetic mean with a green \"x\"\n",
        "plt.plot(mean_value, 1, 'gx', markersize=10, label='Arithmetic Mean')\n",
        "\n",
        "plt.title('Horizontal Box-and-Whisker Plot with Mean Marked')\n",
        "plt.legend()\n",
        "plt.show()\n"
      ],
      "metadata": {
        "colab": {
          "base_uri": "https://localhost:8080/",
          "height": 452
        },
        "id": "yhm4tBV4BDze",
        "outputId": "06648bce-d31d-4f75-bdfa-9c135087022f"
      },
      "execution_count": 12,
      "outputs": [
        {
          "output_type": "display_data",
          "data": {
            "text/plain": [
              "<Figure size 640x480 with 1 Axes>"
            ],
            "image/png": "[encoded data removed]"
          },
          "metadata": {}
        }
      ]
    },
    {
      "cell_type": "markdown",
      "source": [
        "**Determining the Outliers**\n",
        "\n",
        "* We calculate the quartiles and interquartile range (IQR) and define the outlier boundies\n",
        "\n",
        "*  Then we count the data point which lie out side the defined bounds and print the results\n"
      ],
      "metadata": {
        "id": "fRboF8Kwtds-"
      }
    },
    {
      "cell_type": "code",
      "source": [
        "# Calculate quartiles and interquartile range (IQR)\n",
        "q1, q3 = np.percentile(price_diff, [25, 75])\n",
        "iqr = q3 - q1\n",
        "\n",
        "# Define the outlier boundaries\n",
        "lower_bound = q1 - 1.5 * iqr\n",
        "upper_bound = q3 + 1.5 * iqr\n",
        "\n",
        "# Count the outliers\n",
        "outliers = np.sum((price_diff < lower_bound) | (price_diff > upper_bound))\n",
        "\n",
        "print(f\"The boxplot contains {outliers} outliers.\")\n"
      ],
      "metadata": {
        "colab": {
          "base_uri": "https://localhost:8080/"
        },
        "id": "BuR_WxnrB8He",
        "outputId": "f1c12e8f-8fd1-4ffe-d36d-3529d1118f9d"
      },
      "execution_count": 13,
      "outputs": [
        {
          "output_type": "stream",
          "name": "stdout",
          "text": [
            "The boxplot contains 16 outliers.\n"
          ]
        }
      ]
    },
    {
      "cell_type": "markdown",
      "source": [
        "**Conclusion**\n",
        "\n",
        "* In conclusion, this analysis provides a comprehensive overview of the BTC-USD exchange rates during Q3 2023.\n",
        "\n",
        "* Descriptive statistics, visualizations, and outlier detection contribute to a thorough understanding of the cryptocurrency's price dynamics during this period."
      ],
      "metadata": {
        "id": "e2jYE33bwIUA"
      }
    }
  ]
}