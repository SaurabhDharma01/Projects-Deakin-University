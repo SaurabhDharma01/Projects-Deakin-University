{
 "cells": [
  {
   "cell_type": "markdown",
   "id": "dddf05ad",
   "metadata": {},
   "source": [
    "# Task 1P- SIG731- Data Wrangling\n",
    "\n",
    "**Name**: Saurabh Dharmadhikari\n",
    "\n",
    "---\n",
    "\n",
    "\n",
    "**Student ID**: S223624833\n",
    "\n",
    "---\n",
    "\n",
    "\n",
    "**Email**: saurabh.dharma01@gmail.com"
   ]
  },
  {
   "cell_type": "markdown",
   "id": "abc3ef14",
   "metadata": {},
   "source": [
    "**BMI data analysis**\n",
    "* We will analyse Body Index Mass using traditional and new method.\n",
    "* We obtain data on height and weight of family members by measuring them.\n",
    "* Data is given as input in the form of arrays and then we zip the data together such that name, height and weight of a person is one list item.."
   ]
  },
  {
   "cell_type": "code",
   "execution_count": 1,
   "id": "5bcafa40",
   "metadata": {},
   "outputs": [
    {
     "name": "stdout",
     "output_type": "stream",
     "text": [
      "[('Arun', 170, 72), ('Anuja', 151, 66), ('Kaustubh', 165, 58), ('Saurabh', 167, 64), ('Priyanka', 160, 110)]\n"
     ]
    }
   ],
   "source": [
    "# Input data\n",
    "names = [\"Arun\", \"Anuja\", \"Kaustubh\", \"Saurabh\", \"Priyanka\"]\n",
    "heights = [170, 151, 165, 167, 160]  # in centimetres\n",
    "weights = [72, 66, 58, 64, 110]  # in kilograms\n",
    "\n",
    "# Zip the lists\n",
    "data = list(zip(names, heights, weights))\n",
    "\n",
    "# Print the zipped data\n",
    "print(data)"
   ]
  },
  {
   "cell_type": "markdown",
   "id": "9ece6331",
   "metadata": {},
   "source": [
    "**BMI calculation**\n",
    "* We calculate BMI for each family member using a loop function.\n",
    "* We give the formula to calculate BMI and run it on data of each family member to obtain their BMI"
   ]
  },
  {
   "cell_type": "code",
   "execution_count": 2,
   "id": "863f1f2d",
   "metadata": {
    "scrolled": true
   },
   "outputs": [
    {
     "name": "stdout",
     "output_type": "stream",
     "text": [
      "Arun's BMI is: 24.91\n",
      "Anuja's BMI is: 28.95\n",
      "Kaustubh's BMI is: 21.30\n",
      "Saurabh's BMI is: 22.95\n",
      "Priyanka's BMI is: 42.97\n"
     ]
    }
   ],
   "source": [
    "# Calculate BMI for each person\n",
    "bmi_values = []\n",
    "for i in range(len(names)):\n",
    "    height_in_meters = heights[i] / 100  # Convert height to meters\n",
    "    bmi = weights[i] / (height_in_meters ** 2)  # BMI formula: weight / (height^2)\n",
    "    bmi_values.append(bmi)\n",
    "\n",
    "# Display the results\n",
    "for i in range(len(names)):\n",
    "    print(f\"{names[i]}'s BMI is: {bmi_values[i]:.2f}\")"
   ]
  },
  {
   "cell_type": "markdown",
   "id": "d8bb6548",
   "metadata": {},
   "source": [
    "Priyanka has the highest BMI with 42.97.  \n",
    "Kaustubh has the least BMI with 21.30"
   ]
  },
  {
   "cell_type": "markdown",
   "id": "a21bba49",
   "metadata": {},
   "source": [
    "**Calculating BMI with exponent of 2.5**\n",
    "* Here we have calculated new BMI with exponent of 2.5.\n",
    "* We also have used traditional way of calculating BMI to compare both."
   ]
  },
  {
   "cell_type": "code",
   "execution_count": 3,
   "id": "d2cf00b3",
   "metadata": {},
   "outputs": [
    {
     "name": "stdout",
     "output_type": "stream",
     "text": [
      "Arun's BMI is: 24.91, New BMI is: 24.84\n",
      "Anuja's BMI is: 28.95, New BMI is: 30.62\n",
      "Kaustubh's BMI is: 21.30, New BMI is: 21.56\n",
      "Saurabh's BMI is: 22.95, New BMI is: 23.09\n",
      "Priyanka's BMI is: 42.97, New BMI is: 44.16\n"
     ]
    }
   ],
   "source": [
    "# Calculate BMI and New BMI for each person\n",
    "bmis = []\n",
    "new_bmis = []\n",
    "\n",
    "for i in range(len(names)):\n",
    "    height_in_meters = heights[i] / 100  # Convert height to meters\n",
    "\n",
    "    # Calculate traditional BMI\n",
    "    bmi = weights[i] / (height_in_meters ** 2)\n",
    "    bmis.append(bmi)\n",
    "\n",
    "    # Calculate New BMI (exponent of 2.5)\n",
    "    new_bmi = 1.3 * (weights[i] / (height_in_meters ** 2.5))\n",
    "    new_bmis.append(new_bmi)\n",
    "\n",
    "# Display the results\n",
    "for i in range(len(names)):\n",
    "    print(f\"{names[i]}'s BMI is: {bmis[i]:.2f}, New BMI is: {new_bmis[i]:.2f}\")"
   ]
  },
  {
   "cell_type": "markdown",
   "id": "8c80e2e4",
   "metadata": {},
   "source": [
    "**Categorising according to BMI** *Underweight, normal weight, overweight, obesity*\n",
    "* We now categorise each family member according to their BMI"
   ]
  },
  {
   "cell_type": "code",
   "execution_count": 4,
   "id": "a1feb903",
   "metadata": {},
   "outputs": [
    {
     "name": "stdout",
     "output_type": "stream",
     "text": [
      "Arun has BMI of 24.91 which is normal weight. The new BMI index is 24.84.\n",
      "Anuja has BMI of 28.95 which is overweight. The new BMI index is 30.62.\n",
      "Kaustubh has BMI of 21.30 which is normal weight. The new BMI index is 21.56.\n",
      "Saurabh has BMI of 22.95 which is normal weight. The new BMI index is 23.09.\n",
      "Priyanka has BMI of 42.97 which is obesity. The new BMI index is 44.16.\n"
     ]
    }
   ],
   "source": [
    "# Print the results with BMI categories\n",
    "for i in range(len(names)):\n",
    "    name = names[i]\n",
    "    bmi = bmis[i]\n",
    "    new_bmi = new_bmis[i]\n",
    "\n",
    "    # Determine BMI category\n",
    "    if bmi < 18.5:\n",
    "        bmi_category = \"underweight\"\n",
    "    elif 18.5 <= bmi < 25.0:\n",
    "        bmi_category = \"normal weight\"\n",
    "    elif 25.0 <= bmi < 30.0:\n",
    "        bmi_category = \"overweight\"\n",
    "    else:\n",
    "        bmi_category = \"obesity\"\n",
    "\n",
    "    # Print the formatted string\n",
    "    print(f\"{name} has BMI of {bmi:.2f} which is {bmi_category}. The new BMI index is {new_bmi:.2f}.\")"
   ]
  },
  {
   "cell_type": "markdown",
   "id": "9d03b39b",
   "metadata": {},
   "source": [
    "**Observation**\n",
    "\n",
    "- Arun, Kaustubh, and Saurabh have BMI values categorized as \"normal weight\" using both traditional BMI and the new BMI index.\n",
    "- Anuja's BMI is categorized as \"overweight\" using both traditional BMI and the new BMI index. This indicates that she may have an increased risk of weight-related health issues.\n",
    "- Priyanka's BMI is categorized as \"obesity\" using both traditional BMI and the new BMI index. This highlights a significant risk."
   ]
  },
  {
   "cell_type": "markdown",
   "id": "6d5316eb",
   "metadata": {},
   "source": [
    "**Visualisation of BMI data**\n",
    "* We create a bar plot to visually undrstand BMI of each member."
   ]
  },
  {
   "cell_type": "code",
   "execution_count": 5,
   "id": "bd5e0a90",
   "metadata": {},
   "outputs": [],
   "source": [
    "import matplotlib.pyplot as plt"
   ]
  },
  {
   "cell_type": "code",
   "execution_count": 6,
   "id": "48b524c8",
   "metadata": {},
   "outputs": [
    {
     "data": {
      "image/png": "[encoded data removed]",
      "text/plain": [
       "<Figure size 720x432 with 1 Axes>"
      ]
     },
     "metadata": {
      "needs_background": "light"
     },
     "output_type": "display_data"
    }
   ],
   "source": [
    "# Define colors for each category\n",
    "# Define the BMI categories and colors\n",
    "bmi_categories = []\n",
    "colors = {\"Underweight\": \"skyblue\", \"Normal weight\": \"lightgreen\", \"Overweight\": \"lightyellow\", \"Obesity\": \"lightcoral\"}\n",
    "for bmi in bmis:\n",
    "    if bmi < 18.5:\n",
    "        bmi_categories.append(\"Underweight\")\n",
    "    elif 18.5 <= bmi < 25.0:\n",
    "        bmi_categories.append(\"Normal weight\")\n",
    "    elif 25.0 <= bmi < 30.0:\n",
    "        bmi_categories.append(\"Overweight\")\n",
    "    else:\n",
    "        bmi_categories.append(\"Obesity\")\n",
    "\n",
    "# Create bar plot\n",
    "plt.figure(figsize=(10, 6))\n",
    "bars = plt.bar(names, bmis, color=[colors[cat] for cat in bmi_categories])\n",
    "\n",
    "# Create legend for color descriptions\n",
    "legend_colors = [plt.Rectangle((0,0),1,1, color=colors[cat]) for cat in colors]\n",
    "plt.legend(legend_colors, colors.keys())\n",
    "\n",
    "# Add labels and title\n",
    "plt.xlabel('Names')\n",
    "plt.ylabel('BMI')\n",
    "plt.title('BMI Categories')\n",
    "\n",
    "# Show plot\n",
    "plt.show()"
   ]
  },
  {
   "cell_type": "markdown",
   "id": "ab4ac464",
   "metadata": {},
   "source": [
    "**Obserrvations**\n",
    "\n",
    "- Arun, Saurabh, Kaustubh are in normmal weight category.\n",
    "- Anuja is overweight.\n",
    "- Priyanka is obese."
   ]
  },
  {
   "cell_type": "markdown",
   "id": "d77a1caf",
   "metadata": {},
   "source": [
    "**Conclusion**\n",
    "\n",
    "- This analysis provides the BMI status of individuals within the dataset, with both traditional BMI and the new BMI formula.\n",
    "- By these different approaches, the analysis offers unique perspectives on body mass and its implications for health.\n",
    "- Categorizing BMI values helps in understanding the potential health risks associated with individuals' BMI statuses.\n",
    "- The visualization through the bar plot provides a clear representation of BMI categories, enhancing data interpretation."
   ]
  },
  {
   "cell_type": "markdown",
   "id": "4b8c6163",
   "metadata": {},
   "source": [
    "## Comparison and Usage of Traditional and New BMI\n",
    "\n",
    "**Calculation Method:**\n",
    "\n",
    "- BMI: BMI is calculated by dividing an individual's weight in kilograms by the square of their height in meters (BMI = weight / height^2).\n",
    "- New BMI: The \"New BMI\" uses a similar formula but with an exponent of 2.5 for height instead of 2 (New BMI = weight / height^2.5). This adjustment aims to give more weight to height relative to weight, potentially providing a more accurate assessment of body composition.\n",
    "\n",
    "\n",
    "**Interpretation and Categorization:**\n",
    "\n",
    "- BMI: BMI values are typically categorized into underweight, normal weight, overweight, and obesity based on established cutoff points.\n",
    "- New BMI: The categorization of the \"New BMI\" may differ from traditional BMI due to the adjustment in the exponent for height. It may lead to different interpretations of weight status and potentially different cutoff points for defining weight categories.\n",
    "\n",
    "\n",
    "**Accuracy and Precision:**\n",
    "\n",
    "- BMI: BMI is a simple and widely used measure but has limitations in accurately assessing body composition, particularly in individuals with higher muscle mass or different body shapes.\n",
    "- New BMI: The \"New BMI\" aims to address some of the limitations of traditional BMI by giving more weight to height. This adjustment may improve the differentiation between lean body mass and fat mass and reduce misclassification of individuals, potentially leading to increased accuracy.\n",
    "\n",
    "\n",
    "**Applicability and Validation:**\n",
    "\n",
    "- BMI: BMI is widely used in clinical practice, public health initiatives, and research studies. It has been extensively validated and standardized across various populations.\n",
    "- New BMI: The \"New BMI\" method with an exponent of 2.5 is a relatively newer approach and may require further validation across different populations and settings to assess its reliability and effectiveness.\n",
    "\n",
    "\n",
    "**Complexity and Implementation:**\n",
    "\n",
    "- BMI: BMI calculation is straightforward and easy to understand, making it accessible for use in various healthcare and research settings.\n",
    "- New BMI: The calculation of the \"New BMI\" with an exponent of 2.5 is more complex than traditional BMI. This complexity may limit its widespread adoption and utility, particularly in settings where simplicity and accessibility are valued.\n",
    "\n",
    "\n",
    "**Potential Misuses and Biases:**\n",
    "\n",
    "- BMI: BMI cutoff points have been criticized for contributing to weight stigma and discrimination. It may misclassify individuals with higher muscle mass as overweight or obese.\n",
    "- New BMI: While the \"New BMI\" aims to improve accuracy, it may introduce new biases or inaccuracies. Adjusting the exponent for height could potentially lead to overcorrection or misclassification of individuals in certain populations."
   ]
  },
  {
   "cell_type": "code",
   "execution_count": null,
   "id": "cca2034d",
   "metadata": {},
   "outputs": [],
   "source": []
  },
  {
   "cell_type": "code",
   "execution_count": null,
   "id": "2aefa926",
   "metadata": {},
   "outputs": [],
   "source": []
  }
 ],
 "metadata": {
  "kernelspec": {
   "display_name": "Python 3 (ipykernel)",
   "language": "python",
   "name": "python3"
  },
  "language_info": {
   "codemirror_mode": {
    "name": "ipython",
    "version": 3
   },
   "file_extension": ".py",
   "mimetype": "text/x-python",
   "name": "python",
   "nbconvert_exporter": "python",
   "pygments_lexer": "ipython3",
   "version": "3.9.7"
  }
 },
 "nbformat": 4,
 "nbformat_minor": 5
}
