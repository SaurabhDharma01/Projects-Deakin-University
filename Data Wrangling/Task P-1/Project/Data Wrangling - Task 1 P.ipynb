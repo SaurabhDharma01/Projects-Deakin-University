{
 "cells": [
  {
   "cell_type": "markdown",
   "id": "dddf05ad",
   "metadata": {},
   "source": [
    "# Task 1P- SIG731- Data Wrangling\n",
    "\n",
    "**Name**: Saurabh Dharmadhikari\n",
    "\n",
    "---\n",
    "\n",
    "\n",
    "**Student ID**: S223624833\n",
    "\n",
    "---\n",
    "\n",
    "\n",
    "**Email**: saurabh.dharma01@gmail.com"
   ]
  },
  {
   "cell_type": "markdown",
   "id": "abc3ef14",
   "metadata": {},
   "source": [
    "**BMI data analysis**\n",
    "* We obtain data on height and weight of family members by measuring them.\n",
    "* Data is given as input in the form of array."
   ]
  },
  {
   "cell_type": "code",
   "execution_count": 1,
   "id": "5bcafa40",
   "metadata": {},
   "outputs": [],
   "source": [
    "# Input data\n",
    "names = [\"Arun\", \"Anuja\", \"Kaustubh\", \"Saurabh\", \"Priyanka\"]\n",
    "heights = [170, 151, 165, 167, 160]  # in centimetres\n",
    "weights = [72, 66, 58, 64, 110]  # in kilograms"
   ]
  },
  {
   "cell_type": "markdown",
   "id": "9ece6331",
   "metadata": {},
   "source": [
    "**BMI calculation**\n",
    "* We calculate BMI for each family member using a loop function.\n",
    "* We give the formula to calculate BMI and run it on data of each family member to obtain their BMI"
   ]
  },
  {
   "cell_type": "code",
   "execution_count": 2,
   "id": "863f1f2d",
   "metadata": {},
   "outputs": [
    {
     "name": "stdout",
     "output_type": "stream",
     "text": [
      "Arun's BMI is: 24.91\n",
      "Anuja's BMI is: 28.95\n",
      "Kaustubh's BMI is: 21.30\n",
      "Saurabh's BMI is: 22.95\n",
      "Priyanka's BMI is: 42.97\n"
     ]
    }
   ],
   "source": [
    "# Calculate BMI for each person\n",
    "bmi_values = []\n",
    "for i in range(len(names)):\n",
    "    height_in_meters = heights[i] / 100  # Convert height to meters\n",
    "    bmi = weights[i] / (height_in_meters ** 2)  # BMI formula: weight / (height^2)\n",
    "    bmi_values.append(bmi)\n",
    "\n",
    "# Display the results\n",
    "for i in range(len(names)):\n",
    "    print(f\"{names[i]}'s BMI is: {bmi_values[i]:.2f}\")"
   ]
  },
  {
   "cell_type": "markdown",
   "id": "a21bba49",
   "metadata": {},
   "source": [
    "**Calculating BMI with exponent of 2.5**\n",
    "* Here we have calculated new BMI with exponent of 2.5.\n",
    "* We also have used traditional way of calculating BMI to compare both."
   ]
  },
  {
   "cell_type": "code",
   "execution_count": 3,
   "id": "d2cf00b3",
   "metadata": {},
   "outputs": [
    {
     "name": "stdout",
     "output_type": "stream",
     "text": [
      "Arun's BMI is: 24.91, New BMI is: 24.84\n",
      "Anuja's BMI is: 28.95, New BMI is: 30.62\n",
      "Kaustubh's BMI is: 21.30, New BMI is: 21.56\n",
      "Saurabh's BMI is: 22.95, New BMI is: 23.09\n",
      "Priyanka's BMI is: 42.97, New BMI is: 44.16\n"
     ]
    }
   ],
   "source": [
    "# Calculate BMI and New BMI for each person\n",
    "bmis = []\n",
    "new_bmis = []\n",
    "\n",
    "for i in range(len(names)):\n",
    "    height_in_meters = heights[i] / 100  # Convert height to meters\n",
    "\n",
    "    # Calculate traditional BMI\n",
    "    bmi = weights[i] / (height_in_meters ** 2)\n",
    "    bmis.append(bmi)\n",
    "\n",
    "    # Calculate New BMI (exponent of 2.5)\n",
    "    new_bmi = 1.3 * (weights[i] / (height_in_meters ** 2.5))\n",
    "    new_bmis.append(new_bmi)\n",
    "\n",
    "# Display the results\n",
    "for i in range(len(names)):\n",
    "    print(f\"{names[i]}'s BMI is: {bmis[i]:.2f}, New BMI is: {new_bmis[i]:.2f}\")"
   ]
  },
  {
   "cell_type": "markdown",
   "id": "8c80e2e4",
   "metadata": {},
   "source": [
    "**Categorising according to BMI** *Underweight, normal weight, overweight, obesity*\n",
    "* We now categorise each family member according to their BMI"
   ]
  },
  {
   "cell_type": "code",
   "execution_count": 4,
   "id": "a1feb903",
   "metadata": {},
   "outputs": [
    {
     "name": "stdout",
     "output_type": "stream",
     "text": [
      "Arun has BMI of 24.91 which is normal weight. The new BMI index is 24.84.\n",
      "Anuja has BMI of 28.95 which is overweight. The new BMI index is 30.62.\n",
      "Kaustubh has BMI of 21.30 which is normal weight. The new BMI index is 21.56.\n",
      "Saurabh has BMI of 22.95 which is normal weight. The new BMI index is 23.09.\n",
      "Priyanka has BMI of 42.97 which is obesity. The new BMI index is 44.16.\n"
     ]
    }
   ],
   "source": [
    "# Print the results with BMI categories\n",
    "for i in range(len(names)):\n",
    "    name = names[i]\n",
    "    bmi = bmis[i]\n",
    "    new_bmi = new_bmis[i]\n",
    "\n",
    "    # Determine BMI category\n",
    "    if bmi < 18.5:\n",
    "        bmi_category = \"underweight\"\n",
    "    elif 18.5 <= bmi < 25.0:\n",
    "        bmi_category = \"normal weight\"\n",
    "    elif 25.0 <= bmi < 30.0:\n",
    "        bmi_category = \"overweight\"\n",
    "    else:\n",
    "        bmi_category = \"obesity\"\n",
    "\n",
    "    # Print the formatted string\n",
    "    print(f\"{name} has BMI of {bmi:.2f} which is {bmi_category}. The new BMI index is {new_bmi:.2f}.\")"
   ]
  },
  {
   "cell_type": "markdown",
   "id": "6d5316eb",
   "metadata": {},
   "source": [
    "**Visualisation of BMI data**\n",
    "* We create a bar plot to visually undrstand BMI of each member."
   ]
  },
  {
   "cell_type": "code",
   "execution_count": 5,
   "id": "bd5e0a90",
   "metadata": {},
   "outputs": [],
   "source": [
    "import matplotlib.pyplot as plt"
   ]
  },
  {
   "cell_type": "code",
   "execution_count": 6,
   "id": "48b524c8",
   "metadata": {},
   "outputs": [
    {
     "data": {
      "image/png": "[encoded data removed]",
      "text/plain": [
       "<Figure size 432x288 with 1 Axes>"
      ]
     },
     "metadata": {
      "needs_background": "light"
     },
     "output_type": "display_data"
    }
   ],
   "source": [
    "# Determine BMI categories\n",
    "bmi_categories = []\n",
    "for bmi in bmis:\n",
    "    if bmi < 18.5:\n",
    "        bmi_categories.append(\"underweight\")\n",
    "    elif 18.5 <= bmi < 25.0:\n",
    "        bmi_categories.append(\"normal weight\")\n",
    "    elif 25.0 <= bmi < 30.0:\n",
    "        bmi_categories.append(\"overweight\")\n",
    "    else:\n",
    "        bmi_categories.append(\"obesity\")\n",
    "\n",
    "# Define more sober colors for each BMI category\n",
    "colors = {\"underweight\": \"skyblue\", \"normal weight\": \"lightgreen\", \"overweight\": \"lightyellow\", \"obesity\": \"lightcoral\"}\n",
    "\n",
    "# Create a bar plot\n",
    "plt.bar(names, bmis, color=[colors[category] for category in bmi_categories])\n",
    "plt.xlabel('Names')\n",
    "plt.ylabel('BMI')\n",
    "plt.title('BMI Categories')\n",
    "plt.show()"
   ]
  },
  {
   "cell_type": "markdown",
   "id": "ab4ac464",
   "metadata": {},
   "source": [
    "**Obserrvations**\n",
    "\n",
    "- Arun, Saurabh, Kaustubh are in normmal weight category.\n",
    "- Anuja is overweight.\n",
    "- Priyanka is obese."
   ]
  },
  {
   "cell_type": "markdown",
   "id": "d77a1caf",
   "metadata": {},
   "source": [
    "**Conclusion**\n",
    "\n",
    "- This data has application in medical field.\n",
    "- This helps in planning diet and workout plans.\n",
    "- With more industry knowledge medical staff can suggest better."
   ]
  },
  {
   "cell_type": "code",
   "execution_count": null,
   "id": "7a632022",
   "metadata": {},
   "outputs": [],
   "source": []
  }
 ],
 "metadata": {
  "kernelspec": {
   "display_name": "Python 3 (ipykernel)",
   "language": "python",
   "name": "python3"
  },
  "language_info": {
   "codemirror_mode": {
    "name": "ipython",
    "version": 3
   },
   "file_extension": ".py",
   "mimetype": "text/x-python",
   "name": "python",
   "nbconvert_exporter": "python",
   "pygments_lexer": "ipython3",
   "version": "3.9.7"
  }
 },
 "nbformat": 4,
 "nbformat_minor": 5
}
