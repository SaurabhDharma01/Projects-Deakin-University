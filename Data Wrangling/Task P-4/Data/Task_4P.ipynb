{
  "nbformat": 4,
  "nbformat_minor": 0,
  "metadata": {
    "colab": {
      "provenance": []
    },
    "kernelspec": {
      "name": "python3",
      "display_name": "Python 3"
    },
    "language_info": {
      "name": "python"
    }
  },
  "cells": [
    {
      "cell_type": "markdown",
      "source": [
        "# Task 4P- SIG731- Data Wrangling\n",
        "\n",
        "**Name**: Vamsi Krishna Chinthalapalli\n",
        "\n",
        "---\n",
        "\n",
        "\n",
        "**Student ID**: S223634451\n",
        "\n",
        "---\n",
        "\n",
        "\n",
        "**Email**: Vamsi.krishna.c@outlook.com"
      ],
      "metadata": {
        "id": "X2pt13fQavfz"
      }
    },
    {
      "cell_type": "markdown",
      "source": [
        "**Analysis of Weather Data**\n",
        "\n",
        "**Introduction**\n",
        "\n",
        "* This report explores and analyzes weather data using Python and pandas.\n",
        "* The dataset, loaded from a CSV file, contains information about temperature, dew point, precipitation, visibility, and wind speeds across different airports.\n",
        "* The analysis includes converting units, correcting time columns, and visualizing wind speed trends."
      ],
      "metadata": {
        "id": "m7tYKMQJ0DeJ"
      }
    },
    {
      "cell_type": "markdown",
      "source": [
        "**Libraries**\n",
        "\n",
        "* We import necessary libraries such as Numpay, pandas and matplotlib,pyplot"
      ],
      "metadata": {
        "id": "DVgTQdC52Xwv"
      }
    },
    {
      "cell_type": "code",
      "source": [
        "import numpy as np\n",
        "import pandas as pd\n",
        "import matplotlib.pyplot as plt"
      ],
      "metadata": {
        "id": "3UcWBGW-Np4N"
      },
      "execution_count": null,
      "outputs": []
    },
    {
      "cell_type": "markdown",
      "source": [
        "**Data Loading and Transformation**\n",
        "\n",
        "* We load the data into a dataframe from the weather.csv\n",
        "* Then we convert all columns to use the respective SI units"
      ],
      "metadata": {
        "id": "tV95ZO1C2iqS"
      }
    },
    {
      "cell_type": "code",
      "source": [
        "Weather_df = pd.read_csv(\"/content/weather.csv\")"
      ],
      "metadata": {
        "id": "GiQuMDhrM8Gz"
      },
      "execution_count": null,
      "outputs": []
    },
    {
      "cell_type": "markdown",
      "source": [
        "Data smaple before standadization of Units"
      ],
      "metadata": {
        "id": "h-Nx6Xtz5sdx"
      }
    },
    {
      "cell_type": "code",
      "source": [
        "Weather_df.head()"
      ],
      "metadata": {
        "colab": {
          "base_uri": "https://localhost:8080/",
          "height": 206
        },
        "id": "T9d7-Iuz4qJ6",
        "outputId": "c4752b2c-5878-4037-d87d-5da5bd036808"
      },
      "execution_count": null,
      "outputs": [
        {
          "output_type": "execute_result",
          "data": {
            "text/plain": [
              "  origin  year  month  day  hour   temp   dewp  humid  wind_dir  wind_speed  \\\n",
              "0    EWR  2013      1    1     0  37.04  21.92  53.97     230.0    10.35702   \n",
              "1    EWR  2013      1    1     1  37.04  21.92  53.97     230.0    13.80936   \n",
              "2    EWR  2013      1    1     2  37.94  21.92  52.09     230.0    12.65858   \n",
              "3    EWR  2013      1    1     3  37.94  23.00  54.51     230.0    13.80936   \n",
              "4    EWR  2013      1    1     4  37.94  24.08  57.04     240.0    14.96014   \n",
              "\n",
              "   wind_gust  precip  pressure  visib         time_hour  \n",
              "0  11.918651     0.0    1013.9   10.0  01-01-2013 01:00  \n",
              "1  15.891535     0.0    1013.0   10.0  01-01-2013 02:00  \n",
              "2  14.567241     0.0    1012.6   10.0  01-01-2013 03:00  \n",
              "3  15.891535     0.0    1012.7   10.0  01-01-2013 04:00  \n",
              "4  17.215830     0.0    1012.8   10.0  01-01-2013 05:00  "
            ],
            "text/html": [
              "\n",
              "  <div id=\"df-f0ae59fd-ac57-4355-98d8-4836776c9350\" class=\"colab-df-container\">\n",
              "    <div>\n",
              "<style scoped>\n",
              "    .dataframe tbody tr th:only-of-type {\n",
              "        vertical-align: middle;\n",
              "    }\n",
              "\n",
              "    .dataframe tbody tr th {\n",
              "        vertical-align: top;\n",
              "    }\n",
              "\n",
              "    .dataframe thead th {\n",
              "        text-align: right;\n",
              "    }\n",
              "</style>\n",
              "<table border=\"1\" class=\"dataframe\">\n",
              "  <thead>\n",
              "    <tr style=\"text-align: right;\">\n",
              "      <th></th>\n",
              "      <th>origin</th>\n",
              "      <th>year</th>\n",
              "      <th>month</th>\n",
              "      <th>day</th>\n",
              "      <th>hour</th>\n",
              "      <th>temp</th>\n",
              "      <th>dewp</th>\n",
              "      <th>humid</th>\n",
              "      <th>wind_dir</th>\n",
              "      <th>wind_speed</th>\n",
              "      <th>wind_gust</th>\n",
              "      <th>precip</th>\n",
              "      <th>pressure</th>\n",
              "      <th>visib</th>\n",
              "      <th>time_hour</th>\n",
              "    </tr>\n",
              "  </thead>\n",
              "  <tbody>\n",
              "    <tr>\n",
              "      <th>0</th>\n",
              "      <td>EWR</td>\n",
              "      <td>2013</td>\n",
              "      <td>1</td>\n",
              "      <td>1</td>\n",
              "      <td>0</td>\n",
              "      <td>37.04</td>\n",
              "      <td>21.92</td>\n",
              "      <td>53.97</td>\n",
              "      <td>230.0</td>\n",
              "      <td>10.35702</td>\n",
              "      <td>11.918651</td>\n",
              "      <td>0.0</td>\n",
              "      <td>1013.9</td>\n",
              "      <td>10.0</td>\n",
              "      <td>01-01-2013 01:00</td>\n",
              "    </tr>\n",
              "    <tr>\n",
              "      <th>1</th>\n",
              "      <td>EWR</td>\n",
              "      <td>2013</td>\n",
              "      <td>1</td>\n",
              "      <td>1</td>\n",
              "      <td>1</td>\n",
              "      <td>37.04</td>\n",
              "      <td>21.92</td>\n",
              "      <td>53.97</td>\n",
              "      <td>230.0</td>\n",
              "      <td>13.80936</td>\n",
              "      <td>15.891535</td>\n",
              "      <td>0.0</td>\n",
              "      <td>1013.0</td>\n",
              "      <td>10.0</td>\n",
              "      <td>01-01-2013 02:00</td>\n",
              "    </tr>\n",
              "    <tr>\n",
              "      <th>2</th>\n",
              "      <td>EWR</td>\n",
              "      <td>2013</td>\n",
              "      <td>1</td>\n",
              "      <td>1</td>\n",
              "      <td>2</td>\n",
              "      <td>37.94</td>\n",
              "      <td>21.92</td>\n",
              "      <td>52.09</td>\n",
              "      <td>230.0</td>\n",
              "      <td>12.65858</td>\n",
              "      <td>14.567241</td>\n",
              "      <td>0.0</td>\n",
              "      <td>1012.6</td>\n",
              "      <td>10.0</td>\n",
              "      <td>01-01-2013 03:00</td>\n",
              "    </tr>\n",
              "    <tr>\n",
              "      <th>3</th>\n",
              "      <td>EWR</td>\n",
              "      <td>2013</td>\n",
              "      <td>1</td>\n",
              "      <td>1</td>\n",
              "      <td>3</td>\n",
              "      <td>37.94</td>\n",
              "      <td>23.00</td>\n",
              "      <td>54.51</td>\n",
              "      <td>230.0</td>\n",
              "      <td>13.80936</td>\n",
              "      <td>15.891535</td>\n",
              "      <td>0.0</td>\n",
              "      <td>1012.7</td>\n",
              "      <td>10.0</td>\n",
              "      <td>01-01-2013 04:00</td>\n",
              "    </tr>\n",
              "    <tr>\n",
              "      <th>4</th>\n",
              "      <td>EWR</td>\n",
              "      <td>2013</td>\n",
              "      <td>1</td>\n",
              "      <td>1</td>\n",
              "      <td>4</td>\n",
              "      <td>37.94</td>\n",
              "      <td>24.08</td>\n",
              "      <td>57.04</td>\n",
              "      <td>240.0</td>\n",
              "      <td>14.96014</td>\n",
              "      <td>17.215830</td>\n",
              "      <td>0.0</td>\n",
              "      <td>1012.8</td>\n",
              "      <td>10.0</td>\n",
              "      <td>01-01-2013 05:00</td>\n",
              "    </tr>\n",
              "  </tbody>\n",
              "</table>\n",
              "</div>\n",
              "    <div class=\"colab-df-buttons\">\n",
              "\n",
              "  <div class=\"colab-df-container\">\n",
              "    <button class=\"colab-df-convert\" onclick=\"convertToInteractive('df-f0ae59fd-ac57-4355-98d8-4836776c9350')\"\n",
              "            title=\"Convert this dataframe to an interactive table.\"\n",
              "            style=\"display:none;\">\n",
              "\n",
              "  <svg xmlns=\"http://www.w3.org/2000/svg\" height=\"24px\" viewBox=\"0 -960 960 960\">\n",
              "    <path d=\"M120-120v-720h720v720H120Zm60-500h600v-160H180v160Zm220 220h160v-160H400v160Zm0 220h160v-160H400v160ZM180-400h160v-160H180v160Zm440 0h160v-160H620v160ZM180-180h160v-160H180v160Zm440 0h160v-160H620v160Z\"/>\n",
              "  </svg>\n",
              "    </button>\n",
              "\n",
              "  <style>\n",
              "    .colab-df-container {\n",
              "      display:flex;\n",
              "      gap: 12px;\n",
              "    }\n",
              "\n",
              "    .colab-df-convert {\n",
              "      background-color: #E8F0FE;\n",
              "      border: none;\n",
              "      border-radius: 50%;\n",
              "      cursor: pointer;\n",
              "      display: none;\n",
              "      fill: #1967D2;\n",
              "      height: 32px;\n",
              "      padding: 0 0 0 0;\n",
              "      width: 32px;\n",
              "    }\n",
              "\n",
              "    .colab-df-convert:hover {\n",
              "      background-color: #E2EBFA;\n",
              "      box-shadow: 0px 1px 2px rgba(60, 64, 67, 0.3), 0px 1px 3px 1px rgba(60, 64, 67, 0.15);\n",
              "      fill: #174EA6;\n",
              "    }\n",
              "\n",
              "    .colab-df-buttons div {\n",
              "      margin-bottom: 4px;\n",
              "    }\n",
              "\n",
              "    [theme=dark] .colab-df-convert {\n",
              "      background-color: #3B4455;\n",
              "      fill: #D2E3FC;\n",
              "    }\n",
              "\n",
              "    [theme=dark] .colab-df-convert:hover {\n",
              "      background-color: #434B5C;\n",
              "      box-shadow: 0px 1px 3px 1px rgba(0, 0, 0, 0.15);\n",
              "      filter: drop-shadow(0px 1px 2px rgba(0, 0, 0, 0.3));\n",
              "      fill: #FFFFFF;\n",
              "    }\n",
              "  </style>\n",
              "\n",
              "    <script>\n",
              "      const buttonEl =\n",
              "        document.querySelector('#df-f0ae59fd-ac57-4355-98d8-4836776c9350 button.colab-df-convert');\n",
              "      buttonEl.style.display =\n",
              "        google.colab.kernel.accessAllowed ? 'block' : 'none';\n",
              "\n",
              "      async function convertToInteractive(key) {\n",
              "        const element = document.querySelector('#df-f0ae59fd-ac57-4355-98d8-4836776c9350');\n",
              "        const dataTable =\n",
              "          await google.colab.kernel.invokeFunction('convertToInteractive',\n",
              "                                                    [key], {});\n",
              "        if (!dataTable) return;\n",
              "\n",
              "        const docLinkHtml = 'Like what you see? Visit the ' +\n",
              "          '<a target=\"_blank\" href=https://colab.research.google.com/notebooks/data_table.ipynb>data table notebook</a>'\n",
              "          + ' to learn more about interactive tables.';\n",
              "        element.innerHTML = '';\n",
              "        dataTable['output_type'] = 'display_data';\n",
              "        await google.colab.output.renderOutput(dataTable, element);\n",
              "        const docLink = document.createElement('div');\n",
              "        docLink.innerHTML = docLinkHtml;\n",
              "        element.appendChild(docLink);\n",
              "      }\n",
              "    </script>\n",
              "  </div>\n",
              "\n",
              "\n",
              "<div id=\"df-1a9f0378-be5a-4763-b3ab-40496bceb84c\">\n",
              "  <button class=\"colab-df-quickchart\" onclick=\"quickchart('df-1a9f0378-be5a-4763-b3ab-40496bceb84c')\"\n",
              "            title=\"Suggest charts\"\n",
              "            style=\"display:none;\">\n",
              "\n",
              "<svg xmlns=\"http://www.w3.org/2000/svg\" height=\"24px\"viewBox=\"0 0 24 24\"\n",
              "     width=\"24px\">\n",
              "    <g>\n",
              "        <path d=\"M19 3H5c-1.1 0-2 .9-2 2v14c0 1.1.9 2 2 2h14c1.1 0 2-.9 2-2V5c0-1.1-.9-2-2-2zM9 17H7v-7h2v7zm4 0h-2V7h2v10zm4 0h-2v-4h2v4z\"/>\n",
              "    </g>\n",
              "</svg>\n",
              "  </button>\n",
              "\n",
              "<style>\n",
              "  .colab-df-quickchart {\n",
              "      --bg-color: #E8F0FE;\n",
              "      --fill-color: #1967D2;\n",
              "      --hover-bg-color: #E2EBFA;\n",
              "      --hover-fill-color: #174EA6;\n",
              "      --disabled-fill-color: #AAA;\n",
              "      --disabled-bg-color: #DDD;\n",
              "  }\n",
              "\n",
              "  [theme=dark] .colab-df-quickchart {\n",
              "      --bg-color: #3B4455;\n",
              "      --fill-color: #D2E3FC;\n",
              "      --hover-bg-color: #434B5C;\n",
              "      --hover-fill-color: #FFFFFF;\n",
              "      --disabled-bg-color: #3B4455;\n",
              "      --disabled-fill-color: #666;\n",
              "  }\n",
              "\n",
              "  .colab-df-quickchart {\n",
              "    background-color: var(--bg-color);\n",
              "    border: none;\n",
              "    border-radius: 50%;\n",
              "    cursor: pointer;\n",
              "    display: none;\n",
              "    fill: var(--fill-color);\n",
              "    height: 32px;\n",
              "    padding: 0;\n",
              "    width: 32px;\n",
              "  }\n",
              "\n",
              "  .colab-df-quickchart:hover {\n",
              "    background-color: var(--hover-bg-color);\n",
              "    box-shadow: 0 1px 2px rgba(60, 64, 67, 0.3), 0 1px 3px 1px rgba(60, 64, 67, 0.15);\n",
              "    fill: var(--button-hover-fill-color);\n",
              "  }\n",
              "\n",
              "  .colab-df-quickchart-complete:disabled,\n",
              "  .colab-df-quickchart-complete:disabled:hover {\n",
              "    background-color: var(--disabled-bg-color);\n",
              "    fill: var(--disabled-fill-color);\n",
              "    box-shadow: none;\n",
              "  }\n",
              "\n",
              "  .colab-df-spinner {\n",
              "    border: 2px solid var(--fill-color);\n",
              "    border-color: transparent;\n",
              "    border-bottom-color: var(--fill-color);\n",
              "    animation:\n",
              "      spin 1s steps(1) infinite;\n",
              "  }\n",
              "\n",
              "  @keyframes spin {\n",
              "    0% {\n",
              "      border-color: transparent;\n",
              "      border-bottom-color: var(--fill-color);\n",
              "      border-left-color: var(--fill-color);\n",
              "    }\n",
              "    20% {\n",
              "      border-color: transparent;\n",
              "      border-left-color: var(--fill-color);\n",
              "      border-top-color: var(--fill-color);\n",
              "    }\n",
              "    30% {\n",
              "      border-color: transparent;\n",
              "      border-left-color: var(--fill-color);\n",
              "      border-top-color: var(--fill-color);\n",
              "      border-right-color: var(--fill-color);\n",
              "    }\n",
              "    40% {\n",
              "      border-color: transparent;\n",
              "      border-right-color: var(--fill-color);\n",
              "      border-top-color: var(--fill-color);\n",
              "    }\n",
              "    60% {\n",
              "      border-color: transparent;\n",
              "      border-right-color: var(--fill-color);\n",
              "    }\n",
              "    80% {\n",
              "      border-color: transparent;\n",
              "      border-right-color: var(--fill-color);\n",
              "      border-bottom-color: var(--fill-color);\n",
              "    }\n",
              "    90% {\n",
              "      border-color: transparent;\n",
              "      border-bottom-color: var(--fill-color);\n",
              "    }\n",
              "  }\n",
              "</style>\n",
              "\n",
              "  <script>\n",
              "    async function quickchart(key) {\n",
              "      const quickchartButtonEl =\n",
              "        document.querySelector('#' + key + ' button');\n",
              "      quickchartButtonEl.disabled = true;  // To prevent multiple clicks.\n",
              "      quickchartButtonEl.classList.add('colab-df-spinner');\n",
              "      try {\n",
              "        const charts = await google.colab.kernel.invokeFunction(\n",
              "            'suggestCharts', [key], {});\n",
              "      } catch (error) {\n",
              "        console.error('Error during call to suggestCharts:', error);\n",
              "      }\n",
              "      quickchartButtonEl.classList.remove('colab-df-spinner');\n",
              "      quickchartButtonEl.classList.add('colab-df-quickchart-complete');\n",
              "    }\n",
              "    (() => {\n",
              "      let quickchartButtonEl =\n",
              "        document.querySelector('#df-1a9f0378-be5a-4763-b3ab-40496bceb84c button');\n",
              "      quickchartButtonEl.style.display =\n",
              "        google.colab.kernel.accessAllowed ? 'block' : 'none';\n",
              "    })();\n",
              "  </script>\n",
              "</div>\n",
              "    </div>\n",
              "  </div>\n"
            ]
          },
          "metadata": {},
          "execution_count": 9
        }
      ]
    },
    {
      "cell_type": "markdown",
      "source": [
        "We apply the following standardizations ofr the respective columns\n",
        "\n",
        "* Temparature :  We convert Fahrenheit (°F). to Celsius (°C)\n",
        "\n",
        "* Dew point temperature : We convert Fahrenheit (°F). to Celsius (°C)\n",
        "\n",
        "* Preciptitaion : We Convert inches to millimeters\n",
        "\n",
        "* Visibility : We convert miles to kilometers\n",
        "\n",
        "* Wind speed : We convert mph to m/s\n",
        "\n",
        "* Wind gust : We convert mph to m/s\n",
        "\n"
      ],
      "metadata": {
        "id": "Htikfrj_5zNH"
      }
    },
    {
      "cell_type": "code",
      "source": [
        "# Convert columns to metric units\n",
        "Weather_df['temp'] = (Weather_df['temp'] - 32) * 5/9\n",
        "Weather_df['dewp'] = (Weather_df['dewp'] - 32) * 5/9\n",
        "Weather_df['precip'] *= 25.4\n",
        "Weather_df['visib'] *= 1.60934\n",
        "Weather_df['wind_speed'] *= 0.44704\n",
        "Weather_df['wind_gust'] *= 0.44704\n",
        "\n",
        "# Correct the time_hour column\n",
        "Weather_df['time_hour'] = pd.to_datetime(Weather_df['time_hour']) - pd.Timedelta(hours=1)"
      ],
      "metadata": {
        "id": "tTuDk7JyQ5nt"
      },
      "execution_count": null,
      "outputs": []
    },
    {
      "cell_type": "markdown",
      "source": [
        "Data smaple after standadization of Units"
      ],
      "metadata": {
        "id": "O7KFpbXf67m8"
      }
    },
    {
      "cell_type": "code",
      "source": [
        "Weather_df.head()"
      ],
      "metadata": {
        "colab": {
          "base_uri": "https://localhost:8080/",
          "height": 206
        },
        "id": "dbE7oPfZ4wAV",
        "outputId": "6ae6d20c-79a1-42b0-e8c9-dbbd80d00a18"
      },
      "execution_count": null,
      "outputs": [
        {
          "output_type": "execute_result",
          "data": {
            "text/plain": [
              "  origin  year  month  day  hour  temp  dewp  humid  wind_dir  wind_speed  \\\n",
              "0    EWR  2013      1    1     0   2.8  -5.6  53.97     230.0    4.630002   \n",
              "1    EWR  2013      1    1     1   2.8  -5.6  53.97     230.0    6.173336   \n",
              "2    EWR  2013      1    1     2   3.3  -5.6  52.09     230.0    5.658892   \n",
              "3    EWR  2013      1    1     3   3.3  -5.0  54.51     230.0    6.173336   \n",
              "4    EWR  2013      1    1     4   3.3  -4.4  57.04     240.0    6.687781   \n",
              "\n",
              "   wind_gust  precip  pressure    visib           time_hour  \n",
              "0   5.328114     0.0    1013.9  16.0934 2013-01-01 00:00:00  \n",
              "1   7.104152     0.0    1013.0  16.0934 2013-01-01 01:00:00  \n",
              "2   6.512139     0.0    1012.6  16.0934 2013-01-01 02:00:00  \n",
              "3   7.104152     0.0    1012.7  16.0934 2013-01-01 03:00:00  \n",
              "4   7.696165     0.0    1012.8  16.0934 2013-01-01 04:00:00  "
            ],
            "text/html": [
              "\n",
              "  <div id=\"df-8e98628b-adcb-4bc0-9ff5-50ff38d721c0\" class=\"colab-df-container\">\n",
              "    <div>\n",
              "<style scoped>\n",
              "    .dataframe tbody tr th:only-of-type {\n",
              "        vertical-align: middle;\n",
              "    }\n",
              "\n",
              "    .dataframe tbody tr th {\n",
              "        vertical-align: top;\n",
              "    }\n",
              "\n",
              "    .dataframe thead th {\n",
              "        text-align: right;\n",
              "    }\n",
              "</style>\n",
              "<table border=\"1\" class=\"dataframe\">\n",
              "  <thead>\n",
              "    <tr style=\"text-align: right;\">\n",
              "      <th></th>\n",
              "      <th>origin</th>\n",
              "      <th>year</th>\n",
              "      <th>month</th>\n",
              "      <th>day</th>\n",
              "      <th>hour</th>\n",
              "      <th>temp</th>\n",
              "      <th>dewp</th>\n",
              "      <th>humid</th>\n",
              "      <th>wind_dir</th>\n",
              "      <th>wind_speed</th>\n",
              "      <th>wind_gust</th>\n",
              "      <th>precip</th>\n",
              "      <th>pressure</th>\n",
              "      <th>visib</th>\n",
              "      <th>time_hour</th>\n",
              "    </tr>\n",
              "  </thead>\n",
              "  <tbody>\n",
              "    <tr>\n",
              "      <th>0</th>\n",
              "      <td>EWR</td>\n",
              "      <td>2013</td>\n",
              "      <td>1</td>\n",
              "      <td>1</td>\n",
              "      <td>0</td>\n",
              "      <td>2.8</td>\n",
              "      <td>-5.6</td>\n",
              "      <td>53.97</td>\n",
              "      <td>230.0</td>\n",
              "      <td>4.630002</td>\n",
              "      <td>5.328114</td>\n",
              "      <td>0.0</td>\n",
              "      <td>1013.9</td>\n",
              "      <td>16.0934</td>\n",
              "      <td>2013-01-01 00:00:00</td>\n",
              "    </tr>\n",
              "    <tr>\n",
              "      <th>1</th>\n",
              "      <td>EWR</td>\n",
              "      <td>2013</td>\n",
              "      <td>1</td>\n",
              "      <td>1</td>\n",
              "      <td>1</td>\n",
              "      <td>2.8</td>\n",
              "      <td>-5.6</td>\n",
              "      <td>53.97</td>\n",
              "      <td>230.0</td>\n",
              "      <td>6.173336</td>\n",
              "      <td>7.104152</td>\n",
              "      <td>0.0</td>\n",
              "      <td>1013.0</td>\n",
              "      <td>16.0934</td>\n",
              "      <td>2013-01-01 01:00:00</td>\n",
              "    </tr>\n",
              "    <tr>\n",
              "      <th>2</th>\n",
              "      <td>EWR</td>\n",
              "      <td>2013</td>\n",
              "      <td>1</td>\n",
              "      <td>1</td>\n",
              "      <td>2</td>\n",
              "      <td>3.3</td>\n",
              "      <td>-5.6</td>\n",
              "      <td>52.09</td>\n",
              "      <td>230.0</td>\n",
              "      <td>5.658892</td>\n",
              "      <td>6.512139</td>\n",
              "      <td>0.0</td>\n",
              "      <td>1012.6</td>\n",
              "      <td>16.0934</td>\n",
              "      <td>2013-01-01 02:00:00</td>\n",
              "    </tr>\n",
              "    <tr>\n",
              "      <th>3</th>\n",
              "      <td>EWR</td>\n",
              "      <td>2013</td>\n",
              "      <td>1</td>\n",
              "      <td>1</td>\n",
              "      <td>3</td>\n",
              "      <td>3.3</td>\n",
              "      <td>-5.0</td>\n",
              "      <td>54.51</td>\n",
              "      <td>230.0</td>\n",
              "      <td>6.173336</td>\n",
              "      <td>7.104152</td>\n",
              "      <td>0.0</td>\n",
              "      <td>1012.7</td>\n",
              "      <td>16.0934</td>\n",
              "      <td>2013-01-01 03:00:00</td>\n",
              "    </tr>\n",
              "    <tr>\n",
              "      <th>4</th>\n",
              "      <td>EWR</td>\n",
              "      <td>2013</td>\n",
              "      <td>1</td>\n",
              "      <td>1</td>\n",
              "      <td>4</td>\n",
              "      <td>3.3</td>\n",
              "      <td>-4.4</td>\n",
              "      <td>57.04</td>\n",
              "      <td>240.0</td>\n",
              "      <td>6.687781</td>\n",
              "      <td>7.696165</td>\n",
              "      <td>0.0</td>\n",
              "      <td>1012.8</td>\n",
              "      <td>16.0934</td>\n",
              "      <td>2013-01-01 04:00:00</td>\n",
              "    </tr>\n",
              "  </tbody>\n",
              "</table>\n",
              "</div>\n",
              "    <div class=\"colab-df-buttons\">\n",
              "\n",
              "  <div class=\"colab-df-container\">\n",
              "    <button class=\"colab-df-convert\" onclick=\"convertToInteractive('df-8e98628b-adcb-4bc0-9ff5-50ff38d721c0')\"\n",
              "            title=\"Convert this dataframe to an interactive table.\"\n",
              "            style=\"display:none;\">\n",
              "\n",
              "  <svg xmlns=\"http://www.w3.org/2000/svg\" height=\"24px\" viewBox=\"0 -960 960 960\">\n",
              "    <path d=\"M120-120v-720h720v720H120Zm60-500h600v-160H180v160Zm220 220h160v-160H400v160Zm0 220h160v-160H400v160ZM180-400h160v-160H180v160Zm440 0h160v-160H620v160ZM180-180h160v-160H180v160Zm440 0h160v-160H620v160Z\"/>\n",
              "  </svg>\n",
              "    </button>\n",
              "\n",
              "  <style>\n",
              "    .colab-df-container {\n",
              "      display:flex;\n",
              "      gap: 12px;\n",
              "    }\n",
              "\n",
              "    .colab-df-convert {\n",
              "      background-color: #E8F0FE;\n",
              "      border: none;\n",
              "      border-radius: 50%;\n",
              "      cursor: pointer;\n",
              "      display: none;\n",
              "      fill: #1967D2;\n",
              "      height: 32px;\n",
              "      padding: 0 0 0 0;\n",
              "      width: 32px;\n",
              "    }\n",
              "\n",
              "    .colab-df-convert:hover {\n",
              "      background-color: #E2EBFA;\n",
              "      box-shadow: 0px 1px 2px rgba(60, 64, 67, 0.3), 0px 1px 3px 1px rgba(60, 64, 67, 0.15);\n",
              "      fill: #174EA6;\n",
              "    }\n",
              "\n",
              "    .colab-df-buttons div {\n",
              "      margin-bottom: 4px;\n",
              "    }\n",
              "\n",
              "    [theme=dark] .colab-df-convert {\n",
              "      background-color: #3B4455;\n",
              "      fill: #D2E3FC;\n",
              "    }\n",
              "\n",
              "    [theme=dark] .colab-df-convert:hover {\n",
              "      background-color: #434B5C;\n",
              "      box-shadow: 0px 1px 3px 1px rgba(0, 0, 0, 0.15);\n",
              "      filter: drop-shadow(0px 1px 2px rgba(0, 0, 0, 0.3));\n",
              "      fill: #FFFFFF;\n",
              "    }\n",
              "  </style>\n",
              "\n",
              "    <script>\n",
              "      const buttonEl =\n",
              "        document.querySelector('#df-8e98628b-adcb-4bc0-9ff5-50ff38d721c0 button.colab-df-convert');\n",
              "      buttonEl.style.display =\n",
              "        google.colab.kernel.accessAllowed ? 'block' : 'none';\n",
              "\n",
              "      async function convertToInteractive(key) {\n",
              "        const element = document.querySelector('#df-8e98628b-adcb-4bc0-9ff5-50ff38d721c0');\n",
              "        const dataTable =\n",
              "          await google.colab.kernel.invokeFunction('convertToInteractive',\n",
              "                                                    [key], {});\n",
              "        if (!dataTable) return;\n",
              "\n",
              "        const docLinkHtml = 'Like what you see? Visit the ' +\n",
              "          '<a target=\"_blank\" href=https://colab.research.google.com/notebooks/data_table.ipynb>data table notebook</a>'\n",
              "          + ' to learn more about interactive tables.';\n",
              "        element.innerHTML = '';\n",
              "        dataTable['output_type'] = 'display_data';\n",
              "        await google.colab.output.renderOutput(dataTable, element);\n",
              "        const docLink = document.createElement('div');\n",
              "        docLink.innerHTML = docLinkHtml;\n",
              "        element.appendChild(docLink);\n",
              "      }\n",
              "    </script>\n",
              "  </div>\n",
              "\n",
              "\n",
              "<div id=\"df-fdc2bacd-7eaa-4136-8f98-f698912de6a4\">\n",
              "  <button class=\"colab-df-quickchart\" onclick=\"quickchart('df-fdc2bacd-7eaa-4136-8f98-f698912de6a4')\"\n",
              "            title=\"Suggest charts\"\n",
              "            style=\"display:none;\">\n",
              "\n",
              "<svg xmlns=\"http://www.w3.org/2000/svg\" height=\"24px\"viewBox=\"0 0 24 24\"\n",
              "     width=\"24px\">\n",
              "    <g>\n",
              "        <path d=\"M19 3H5c-1.1 0-2 .9-2 2v14c0 1.1.9 2 2 2h14c1.1 0 2-.9 2-2V5c0-1.1-.9-2-2-2zM9 17H7v-7h2v7zm4 0h-2V7h2v10zm4 0h-2v-4h2v4z\"/>\n",
              "    </g>\n",
              "</svg>\n",
              "  </button>\n",
              "\n",
              "<style>\n",
              "  .colab-df-quickchart {\n",
              "      --bg-color: #E8F0FE;\n",
              "      --fill-color: #1967D2;\n",
              "      --hover-bg-color: #E2EBFA;\n",
              "      --hover-fill-color: #174EA6;\n",
              "      --disabled-fill-color: #AAA;\n",
              "      --disabled-bg-color: #DDD;\n",
              "  }\n",
              "\n",
              "  [theme=dark] .colab-df-quickchart {\n",
              "      --bg-color: #3B4455;\n",
              "      --fill-color: #D2E3FC;\n",
              "      --hover-bg-color: #434B5C;\n",
              "      --hover-fill-color: #FFFFFF;\n",
              "      --disabled-bg-color: #3B4455;\n",
              "      --disabled-fill-color: #666;\n",
              "  }\n",
              "\n",
              "  .colab-df-quickchart {\n",
              "    background-color: var(--bg-color);\n",
              "    border: none;\n",
              "    border-radius: 50%;\n",
              "    cursor: pointer;\n",
              "    display: none;\n",
              "    fill: var(--fill-color);\n",
              "    height: 32px;\n",
              "    padding: 0;\n",
              "    width: 32px;\n",
              "  }\n",
              "\n",
              "  .colab-df-quickchart:hover {\n",
              "    background-color: var(--hover-bg-color);\n",
              "    box-shadow: 0 1px 2px rgba(60, 64, 67, 0.3), 0 1px 3px 1px rgba(60, 64, 67, 0.15);\n",
              "    fill: var(--button-hover-fill-color);\n",
              "  }\n",
              "\n",
              "  .colab-df-quickchart-complete:disabled,\n",
              "  .colab-df-quickchart-complete:disabled:hover {\n",
              "    background-color: var(--disabled-bg-color);\n",
              "    fill: var(--disabled-fill-color);\n",
              "    box-shadow: none;\n",
              "  }\n",
              "\n",
              "  .colab-df-spinner {\n",
              "    border: 2px solid var(--fill-color);\n",
              "    border-color: transparent;\n",
              "    border-bottom-color: var(--fill-color);\n",
              "    animation:\n",
              "      spin 1s steps(1) infinite;\n",
              "  }\n",
              "\n",
              "  @keyframes spin {\n",
              "    0% {\n",
              "      border-color: transparent;\n",
              "      border-bottom-color: var(--fill-color);\n",
              "      border-left-color: var(--fill-color);\n",
              "    }\n",
              "    20% {\n",
              "      border-color: transparent;\n",
              "      border-left-color: var(--fill-color);\n",
              "      border-top-color: var(--fill-color);\n",
              "    }\n",
              "    30% {\n",
              "      border-color: transparent;\n",
              "      border-left-color: var(--fill-color);\n",
              "      border-top-color: var(--fill-color);\n",
              "      border-right-color: var(--fill-color);\n",
              "    }\n",
              "    40% {\n",
              "      border-color: transparent;\n",
              "      border-right-color: var(--fill-color);\n",
              "      border-top-color: var(--fill-color);\n",
              "    }\n",
              "    60% {\n",
              "      border-color: transparent;\n",
              "      border-right-color: var(--fill-color);\n",
              "    }\n",
              "    80% {\n",
              "      border-color: transparent;\n",
              "      border-right-color: var(--fill-color);\n",
              "      border-bottom-color: var(--fill-color);\n",
              "    }\n",
              "    90% {\n",
              "      border-color: transparent;\n",
              "      border-bottom-color: var(--fill-color);\n",
              "    }\n",
              "  }\n",
              "</style>\n",
              "\n",
              "  <script>\n",
              "    async function quickchart(key) {\n",
              "      const quickchartButtonEl =\n",
              "        document.querySelector('#' + key + ' button');\n",
              "      quickchartButtonEl.disabled = true;  // To prevent multiple clicks.\n",
              "      quickchartButtonEl.classList.add('colab-df-spinner');\n",
              "      try {\n",
              "        const charts = await google.colab.kernel.invokeFunction(\n",
              "            'suggestCharts', [key], {});\n",
              "      } catch (error) {\n",
              "        console.error('Error during call to suggestCharts:', error);\n",
              "      }\n",
              "      quickchartButtonEl.classList.remove('colab-df-spinner');\n",
              "      quickchartButtonEl.classList.add('colab-df-quickchart-complete');\n",
              "    }\n",
              "    (() => {\n",
              "      let quickchartButtonEl =\n",
              "        document.querySelector('#df-fdc2bacd-7eaa-4136-8f98-f698912de6a4 button');\n",
              "      quickchartButtonEl.style.display =\n",
              "        google.colab.kernel.accessAllowed ? 'block' : 'none';\n",
              "    })();\n",
              "  </script>\n",
              "</div>\n",
              "    </div>\n",
              "  </div>\n"
            ]
          },
          "metadata": {},
          "execution_count": 11
        }
      ]
    },
    {
      "cell_type": "markdown",
      "source": [
        "We now calulate the Daily average wind speeds for each day across the year and print the results"
      ],
      "metadata": {
        "id": "xOY6yBMd6_Sb"
      }
    },
    {
      "cell_type": "code",
      "source": [
        "# Compute daily mean wind speeds for LGA\n",
        "daily_mean_wind_speeds = Weather_df[Weather_df['origin'] == 'LGA'].groupby(['year', 'month', 'day'])['wind_speed'].mean()"
      ],
      "metadata": {
        "id": "E6YFJ-vkQ888"
      },
      "execution_count": null,
      "outputs": []
    },
    {
      "cell_type": "code",
      "source": [
        "daily_mean_wind_speeds"
      ],
      "metadata": {
        "colab": {
          "base_uri": "https://localhost:8080/"
        },
        "id": "za-2uLzL41zK",
        "outputId": "7ca067cb-f413-46fc-ba7d-96ebefd18b95"
      },
      "execution_count": null,
      "outputs": [
        {
          "output_type": "execute_result",
          "data": {
            "text/plain": [
              "year  month  day\n",
              "2013  1      1      6.687781\n",
              "             2      6.430559\n",
              "             3      4.908660\n",
              "             4      6.880698\n",
              "             5      5.144447\n",
              "                      ...   \n",
              "      12     26     3.301020\n",
              "             27     5.401669\n",
              "             28     4.672873\n",
              "             29     3.794030\n",
              "             30     6.001855\n",
              "Name: wind_speed, Length: 364, dtype: float64"
            ]
          },
          "metadata": {},
          "execution_count": 14
        }
      ]
    },
    {
      "cell_type": "markdown",
      "source": [
        "We then visulalize the daily average wind speed over a line chart to observe the trend and patterns"
      ],
      "metadata": {
        "id": "iOsb8bp07U81"
      }
    },
    {
      "cell_type": "code",
      "source": [
        "# Plot daily mean wind speeds at LGA\n",
        "plt.figure(figsize=(10, 5))\n",
        "daily_mean_wind_speeds.plot(label='LGA', color='green')\n",
        "plt.title('Daily Mean Wind Speeds at LGA')\n",
        "plt.xlabel('Date')\n",
        "plt.ylabel('Wind Speed (m/s)')\n",
        "plt.legend()\n",
        "plt.show()"
      ],
      "metadata": {
        "colab": {
          "base_uri": "https://localhost:8080/",
          "height": 487
        },
        "id": "jP8KCcbLQ-7g",
        "outputId": "96233aa9-02eb-438f-af42-f176f8096d33"
      },
      "execution_count": null,
      "outputs": [
        {
          "output_type": "display_data",
          "data": {
            "text/plain": [
              "<Figure size 1000x500 with 1 Axes>"
            ],
            "image/png": "[encoded data removed]"
          },
          "metadata": {}
        }
      ]
    },
    {
      "cell_type": "markdown",
      "source": [
        "Observations\n",
        "\n",
        "* The daily mean wind speed at LGA has been increasing over the past few years.\n",
        "* The wind speed has been increasing steadily over the past few years.\n",
        "* The wind speed reached a peak of around 10 m/s in late 2013.\n",
        "* The wind speed has been gradually declining since then.\n",
        "* The wind speed is still above average for this time of year."
      ],
      "metadata": {
        "id": "sAQDS3yi7h_f"
      }
    },
    {
      "cell_type": "markdown",
      "source": [
        "We then fetch the top 10 daily average wind speeds across the year and print them"
      ],
      "metadata": {
        "id": "tExSvRO07mDF"
      }
    },
    {
      "cell_type": "code",
      "source": [
        "# Identify the ten windiest days at LGA\n",
        "top_ten_windiest_days = daily_mean_wind_speeds.nlargest(10)\n",
        "print(\"Top Ten Windiest Days at LGA:\")\n",
        "print(top_ten_windiest_days)"
      ],
      "metadata": {
        "colab": {
          "base_uri": "https://localhost:8080/"
        },
        "id": "Rb857kbVRBtJ",
        "outputId": "e29264dc-0f9b-48c2-e620-bbb255f16025"
      },
      "execution_count": null,
      "outputs": [
        {
          "output_type": "stream",
          "name": "stdout",
          "text": [
            "Top Ten Windiest Days at LGA:\n",
            "year  month  day\n",
            "2013  11     24     11.317783\n",
            "      1      31     10.717598\n",
            "      2      17     10.010236\n",
            "             21      9.192903\n",
            "             18      9.174264\n",
            "      3      14      9.109958\n",
            "      11     28      8.938477\n",
            "      5      26      8.852736\n",
            "             25      8.766995\n",
            "      2      20      8.659819\n",
            "Name: wind_speed, dtype: float64\n"
          ]
        }
      ]
    },
    {
      "cell_type": "markdown",
      "source": [
        "We then replace the outlier with np.nan"
      ],
      "metadata": {
        "id": "I24zWGzg7z_K"
      }
    },
    {
      "cell_type": "code",
      "source": [
        "# Locate and replace the outlier with np.nan\n",
        "outlier_index = Weather_df['wind_speed'].idxmax()\n",
        "print(outlier_index)\n",
        "Weather_df.at[outlier_index, 'wind_speed'] = np.nan"
      ],
      "metadata": {
        "id": "LPeMqR-ARD9V",
        "colab": {
          "base_uri": "https://localhost:8080/"
        },
        "outputId": "ad7273a7-f5ee-479c-df3d-a4d46f8b0b83"
      },
      "execution_count": null,
      "outputs": [
        {
          "output_type": "stream",
          "name": "stdout",
          "text": [
            "9436\n"
          ]
        }
      ]
    },
    {
      "cell_type": "markdown",
      "source": [
        "Then we calculate the montly average wind speeds over the year for all 3 airports and plot the same over a line graph to compare the results"
      ],
      "metadata": {
        "id": "LYOQHvgY78jY"
      }
    },
    {
      "cell_type": "code",
      "execution_count": null,
      "metadata": {
        "colab": {
          "base_uri": "https://localhost:8080/",
          "height": 491
        },
        "id": "mkVmL9FhFMfV",
        "outputId": "7a52756c-0a5f-4fb1-9be7-7c484807b8f6"
      },
      "outputs": [
        {
          "output_type": "display_data",
          "data": {
            "text/plain": [
              "<Figure size 1200x600 with 0 Axes>"
            ]
          },
          "metadata": {}
        },
        {
          "output_type": "display_data",
          "data": {
            "text/plain": [
              "<Figure size 640x480 with 1 Axes>"
            ],
            "image/png": "[encoded data removed]"
          },
          "metadata": {}
        }
      ],
      "source": [
        "# Compute monthly mean wind speeds for all three airports\n",
        "monthly_mean_wind_speeds = Weather_df.groupby(['year', 'month', 'origin'])['wind_speed'].mean().unstack()\n",
        "\n",
        "# Plot monthly mean wind speeds for all three airports\n",
        "plt.figure(figsize=(12, 6))\n",
        "monthly_mean_wind_speeds.plot(marker='o')\n",
        "plt.title('Monthly Mean Wind Speeds for LGA, JFK, and EWR')\n",
        "plt.xlabel('Date')\n",
        "plt.ylabel('Wind Speed (m/s)')\n",
        "plt.legend(['LGA', 'JFK', 'EWR'])\n",
        "plt.show()\n"
      ]
    },
    {
      "cell_type": "markdown",
      "source": [
        "Observations\n",
        "\n",
        "* The graph shows the monthly mean wind speeds for Newark Liberty International Airport (EWR), John F. Kennedy International Airport (JFK), and LaGuardia Airport (LGA) in New York City.\n",
        "* The average monthly mean wind speeds for EWR, JFK, and LGA during the 2013-2014 seasons are:\n",
        "    * EWR: 5.8 m/s\n",
        "    * JFK: 5.5 m/s\n",
        "    * LGA: 4.8 m/s\n",
        "* The wind speeds are highest in the late fall and early winter, and lowest in the spring and summer.\n",
        "* There is a slight upward trend in wind speeds for all three airports, but the trend is not statistically significant."
      ],
      "metadata": {
        "id": "WSKuhsiL7-N1"
      }
    },
    {
      "cell_type": "markdown",
      "source": [
        "**Conclusion**\n",
        "\n",
        "The analysis provides insights into daily and monthly mean wind speeds at LaGuardia Airport (LGA), John F. Kennedy International Airport (JFK), and Newark Liberty International Airport (EWR). Outliers are identified and handled appropriately. The results are visualized through plots, offering a clear understanding of the data patterns."
      ],
      "metadata": {
        "id": "-25j8PPM2osU"
      }
    }
  ]
}